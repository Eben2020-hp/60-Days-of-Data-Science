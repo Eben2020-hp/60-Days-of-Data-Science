{
 "cells": [
  {
   "cell_type": "markdown",
   "metadata": {},
   "source": [
    "## Day 7 : Statistics all the Way..."
   ]
  },
  {
   "cell_type": "markdown",
   "metadata": {},
   "source": [
    "**REFERENCE:** https://medium.datadriveninvestor.com/day-7-60-days-of-data-science-and-machine-learning-6bc9cc2ceb0b"
   ]
  },
  {
   "cell_type": "markdown",
   "metadata": {},
   "source": [
    "### **First of all, Why Statistics?**\n",
    "\n",
    "There are numerous questions which stats can help you answer, like:\n",
    "- **Consumer behaviour and insights** — How likely is someone to purchase a product? What payment system are they going to use based on their purchasing history data?\n",
    "- **Ads Targeting and optimization** — Which ad is more effective in getting people to purchase a product?\n",
    "- **Optimization** — How can you optimize occupancy in a hotel based on the previous occupancy history data?\n",
    "- **Patterns** — What the most fitting size of t-shirts based on the what 95% of the population is wearing?\n",
    "- If medicines are likely to cure diseases or if the vaccine is effective etc etc\n",
    "\n",
    "The field of statistics is about collecting, summarizing and analyzing data."
   ]
  },
  {
   "cell_type": "markdown",
   "metadata": {},
   "source": [
    "### Terminologies you should know -\n",
    "\n",
    "- **Population:** It’s an identified group of individuals.\n",
    "- **Variable:** It’s a measurable factor or condition that exists in different amounts or types.\n",
    "- **Effect Size:** Conveys how much difference there is between averages of variables.\n",
    "- **Random Sampling:** It’s a (random) way of selecting individuals from a population that makes sure that every individual has an equal probability of being selected.\n",
    "- **Point Estimate:** It’s an estimate of some value in a population, such as an average.\n",
    "    - ***For example, the sample mean x is a point estimate of the population mean μ.***\n",
    "- **Confidence Interval:** It’s the range of values around point estimates that likely contain the true value of a variable in the population/sample. It’s a range of values that encloses the true value of a population parameter.\n",
    "- **Margin of Error:** Used for estimating miscalculation or errors, It’s a calculated amount added and subtracted to a point estimate.\n",
    "- **Standard Deviation:** The average distance between each data point and the total average."
   ]
  },
  {
   "cell_type": "markdown",
   "metadata": {},
   "source": [
    "### Branches of statistics\n",
    "\n",
    "Knowing the type of statistics you need to answer your question will help you choose the appropriate methods to get the most accurate answer possible. There are two branches of statistics:\n",
    "\n",
    "- **Descriptive statistics** — It describes and summarize the data\n",
    "**Example —**\n",
    "How do the students get to their college? Answer can be that 40% of them drive, 35% ride the bus, and 25% bike etc..\n",
    "\n",
    "- **Inferential statistics** — It takes sample data in order to make inferences with respect to a larger population.\n",
    "**Example —**\n",
    "What % of students drive to college by inferring to the sample data.\n",
    "\n",
    "\n",
    "#### There are two types of data\n",
    "\n",
    "<p style=\"text-align:center;\">\n",
    "    <img src='https://miro.medium.com/max/421/0*pwaDQmqZXuUB7SXa.png'>\n",
    "</p>\n",
    "\n",
    "- **Numeric / Quantitative Data:** It’s made up of numeric values which is further divided into Discrete (counted items) and Continuous (measured variables). For this type of data we can use summary statistics like mean, and plots like scatter plots etc..\n",
    "    - ***Examples of Quantitative Data*** — \n",
    "        - Discrete : No of Schools, No of Children, No of Births/ Hour, \n",
    "        - Continuous — Weight, Height, Volume etc\n",
    "<br></br>\n",
    "- **Categorical / Qualitative Data:** It’s made up of values that belong to distinct groups which is further divided into Nominal and Ordinal. For this type of data we use summary statistics such as counts and plots like barplots etc..\n",
    "    - ***Examples of Qualitative Data*** — Marital status, Type of disease, Eye Color etc\n",
    "\n",
    "It’s important to understand your data as it will help you choosing right summary statistics and visualizations."
   ]
  },
  {
   "cell_type": "markdown",
   "metadata": {},
   "source": [
    "### Measures of Central Tendency\n",
    "\n",
    "It’s the value at the center or middle of the data set. There are four Measures —\n",
    "1. **Mean**\n",
    "2. **Median**\n",
    "3. **Mode**\n",
    "4. **Range**\n",
    "\n",
    "<p style=\"text-align:center;\">\n",
    "    <img src='https://miro.medium.com/max/467/1*6UAMMlQUKNGNnCKrE_69Jg.png'>\n",
    "</p>\n",
    "\n",
    "<p style=\"text-align:center;\">\n",
    "    <img src='https://miro.medium.com/max/658/0*gvJueqTvVX2OH0O7'>\n",
    "</p>\n",
    "\n",
    "#### Measure of Spread/ Measure of Variation\n",
    "\n",
    "Variability is the key to the statistics. So, when you are describing the data, never rely on the center alone. Measure of spread identifies the spread of the values. There are four measures of spread/variation —\n",
    "\n",
    "1. **Standard Deviation**\n",
    "2. **Inter-Quartile Range (IQR)**\n",
    "3. **Variance**\n",
    "\n",
    "<p style=\"text-align:center;\">\n",
    "    <img src='https://miro.medium.com/max/313/1*puWqQJcb4e7MNdTCgX9iCA.png'>\n",
    "</p>\n",
    "\n",
    "<p style=\"text-align:center;\">\n",
    "    <img src='https://miro.medium.com/max/343/1*0uMyMPHCwgngO0f_guVUTA.png'>\n",
    "</p>\n",
    "\n",
    "**Measure of frequency:** Shows how often a value occurs\n",
    "\n",
    "#### Which Measure to use?\n",
    "- If the distribution is normal or symmetrical, use mean and standard deviation. Mean works better for symmetrical data and is more sensitive to extreme values.\n",
    "- If the distribution is skewed or has large outliers, then use Median, Range or IQR. Median is usually better to use when your data is skewed i.e not symmetrical.\n",
    "- If the distribution is bimodal, Use mode to figure out if the two modes represent different groups , or range."
   ]
  },
  {
   "cell_type": "markdown",
   "metadata": {},
   "source": [
    "### Numpy Statistical Functions\n",
    "\n",
    "Along the specified axis and the given data set , below are the statistical functions that you can use to analyze your data.\n",
    "\n",
    "- **np.mean()-** To determine the mean value.\n",
    "- **np.median()-** To determine the median value.\n",
    "- **np.std()-** To determine the standard deviation.\n",
    "- **np.var()—** To determine the variance.\n",
    "- **np.average()-** To determine the weighted average.\n",
    "- **np.percentile()-** To determine the nth percentile.\n",
    "- **np.amin()-** To determine the minimum value.\n",
    "- **np.amax()-** To determine the maximum value."
   ]
  },
  {
   "cell_type": "markdown",
   "metadata": {},
   "source": [
    "#### IMPLEMENTATION"
   ]
  },
  {
   "cell_type": "code",
   "execution_count": 1,
   "metadata": {},
   "outputs": [],
   "source": [
    "import numpy as np\n",
    "\n",
    "arr1= np.array([[12, 43, 56], [78, 88, 95], [79, 89, 43], [101, 34, 67]])\n",
    "arr2 = np.array([5, 6, 7, 12, 34, 67, 89])"
   ]
  },
  {
   "cell_type": "code",
   "execution_count": 2,
   "metadata": {},
   "outputs": [
    {
     "name": "stdout",
     "output_type": "stream",
     "text": [
      "Mean of Array 1: 65.41666666666667\n",
      "Mean of Array 2: 31.428571428571427\n"
     ]
    }
   ],
   "source": [
    "### Mean Function\n",
    "\n",
    "print(\"Mean of Array 1:\", np.mean(arr1))\n",
    "print(\"Mean of Array 2:\", np.mean(arr2))"
   ]
  },
  {
   "cell_type": "code",
   "execution_count": 3,
   "metadata": {},
   "outputs": [
    {
     "name": "stdout",
     "output_type": "stream",
     "text": [
      "Average of Array 1: 65.41666666666667\n",
      "Average of Array 2: 31.428571428571427\n"
     ]
    }
   ],
   "source": [
    "### Average Function\n",
    "\n",
    "print(\"Average of Array 1:\",np.average(arr1))\n",
    "print(\"Average of Array 2:\",np.average(arr2))"
   ]
  },
  {
   "cell_type": "markdown",
   "metadata": {},
   "source": [
    "#### Question 1: What is the difference between Mean and Average?\n",
    "The average is the sum of all values divided by the number of values. It is also sometimes referred to as mean. In statistics, mean is the average of the given sample or data set. It is equal to the total of observation divided by the number of observations."
   ]
  },
  {
   "cell_type": "code",
   "execution_count": 4,
   "metadata": {},
   "outputs": [
    {
     "name": "stdout",
     "output_type": "stream",
     "text": [
      "Median of Array 1: 72.5\n",
      "Median of Array 2: 12.0\n"
     ]
    }
   ],
   "source": [
    "### Median Function\n",
    "\n",
    "print(\"Median of Array 1:\",np.median(arr1))\n",
    "print(\"Median of Array 2:\",np.median(arr2))"
   ]
  },
  {
   "cell_type": "code",
   "execution_count": 5,
   "metadata": {},
   "outputs": [
    {
     "name": "stdout",
     "output_type": "stream",
     "text": [
      "Standard Deviation of Array 1: 26.59404173034922\n",
      "Standard Deviation of Array 2: 31.409084867994768\n"
     ]
    }
   ],
   "source": [
    "### Standard Deviation Function\n",
    "\n",
    "print(\"Standard Deviation of Array 1:\", np.std(arr1))\n",
    "print(\"Standard Deviation of Array 2:\", np.std(arr2))"
   ]
  },
  {
   "cell_type": "code",
   "execution_count": 6,
   "metadata": {},
   "outputs": [
    {
     "name": "stdout",
     "output_type": "stream",
     "text": [
      "Variance of Array 1: 707.2430555555557\n",
      "Variance of Array 2: 986.530612244898\n"
     ]
    }
   ],
   "source": [
    "### Variance Function\n",
    "\n",
    "print(\"Variance of Array 1:\",np.var(arr1))\n",
    "print(\"Variance of Array 2:\",np.var(arr2))"
   ]
  },
  {
   "cell_type": "code",
   "execution_count": 7,
   "metadata": {},
   "outputs": [
    {
     "name": "stdout",
     "output_type": "stream",
     "text": [
      "Percentile of Array 1: [78.5 65.5 61.5]\n",
      "Percentile of Array 2: 12.0\n"
     ]
    }
   ],
   "source": [
    "### Percentile Function\n",
    "\n",
    "print(\"Percentile of Array 1:\", np.percentile(arr1, 50, 0))\n",
    "print(\"Percentile of Array 2:\", np.percentile(arr2, 50))"
   ]
  },
  {
   "cell_type": "code",
   "execution_count": 8,
   "metadata": {},
   "outputs": [
    {
     "name": "stdout",
     "output_type": "stream",
     "text": [
      "Minimum element of Array 1: 12\n",
      "Minimum element of Array 2: 5\n"
     ]
    }
   ],
   "source": [
    "### Minimum Function\n",
    "\n",
    "print(\"Minimum element of Array 1:\", np.amin(arr1))\n",
    "print(\"Minimum element of Array 2:\", np.amin(arr2))"
   ]
  },
  {
   "cell_type": "code",
   "execution_count": 9,
   "metadata": {},
   "outputs": [
    {
     "name": "stdout",
     "output_type": "stream",
     "text": [
      "Maximum element of Array 1: 101\n",
      "Maximum element of Array 2: 89\n"
     ]
    }
   ],
   "source": [
    "### Maximum Function\n",
    "\n",
    "print(\"Maximum element of Array 1:\", np.amax(arr1))\n",
    "print(\"Maximum element of Array 2:\", np.amax(arr2))"
   ]
  },
  {
   "cell_type": "markdown",
   "metadata": {},
   "source": [
    "### Groupby and Aggregate Function\n",
    "\n",
    "When you want to compare summary statistics between groups, it’s much easier to use .groupby() and .agg().\n",
    "- The groupby function can be combined with one or more aggregation functions to easily summarize data."
   ]
  },
  {
   "cell_type": "code",
   "execution_count": 10,
   "metadata": {},
   "outputs": [
    {
     "data": {
      "text/html": [
       "<div>\n",
       "<style scoped>\n",
       "    .dataframe tbody tr th:only-of-type {\n",
       "        vertical-align: middle;\n",
       "    }\n",
       "\n",
       "    .dataframe tbody tr th {\n",
       "        vertical-align: top;\n",
       "    }\n",
       "\n",
       "    .dataframe thead tr th {\n",
       "        text-align: left;\n",
       "    }\n",
       "\n",
       "    .dataframe thead tr:last-of-type th {\n",
       "        text-align: right;\n",
       "    }\n",
       "</style>\n",
       "<table border=\"1\" class=\"dataframe\">\n",
       "  <thead>\n",
       "    <tr>\n",
       "      <th></th>\n",
       "      <th colspan=\"2\" halign=\"left\">A</th>\n",
       "      <th colspan=\"2\" halign=\"left\">C</th>\n",
       "    </tr>\n",
       "    <tr>\n",
       "      <th></th>\n",
       "      <th>min</th>\n",
       "      <th>max</th>\n",
       "      <th>min</th>\n",
       "      <th>max</th>\n",
       "    </tr>\n",
       "    <tr>\n",
       "      <th>B</th>\n",
       "      <th></th>\n",
       "      <th></th>\n",
       "      <th></th>\n",
       "      <th></th>\n",
       "    </tr>\n",
       "  </thead>\n",
       "  <tbody>\n",
       "    <tr>\n",
       "      <th>1</th>\n",
       "      <td>1</td>\n",
       "      <td>1</td>\n",
       "      <td>-1.513781</td>\n",
       "      <td>-1.513781</td>\n",
       "    </tr>\n",
       "    <tr>\n",
       "      <th>2</th>\n",
       "      <td>10</td>\n",
       "      <td>10</td>\n",
       "      <td>-1.424833</td>\n",
       "      <td>-1.424833</td>\n",
       "    </tr>\n",
       "    <tr>\n",
       "      <th>30</th>\n",
       "      <td>20</td>\n",
       "      <td>20</td>\n",
       "      <td>-1.008311</td>\n",
       "      <td>-1.008311</td>\n",
       "    </tr>\n",
       "    <tr>\n",
       "      <th>40</th>\n",
       "      <td>2</td>\n",
       "      <td>2</td>\n",
       "      <td>-2.276786</td>\n",
       "      <td>-2.276786</td>\n",
       "    </tr>\n",
       "  </tbody>\n",
       "</table>\n",
       "</div>"
      ],
      "text/plain": [
       "     A             C          \n",
       "   min max       min       max\n",
       "B                             \n",
       "1    1   1 -1.513781 -1.513781\n",
       "2   10  10 -1.424833 -1.424833\n",
       "30  20  20 -1.008311 -1.008311\n",
       "40   2   2 -2.276786 -2.276786"
      ]
     },
     "execution_count": 10,
     "metadata": {},
     "output_type": "execute_result"
    }
   ],
   "source": [
    "import pandas as pd\n",
    "\n",
    "df = pd.DataFrame({'A': [1, 10, 20, 2],\n",
    "                   'B': [1, 2, 30, 40],\n",
    "                   'C': np.random.randn(4)})\n",
    "\n",
    "df.groupby('B').agg(['min', 'max'])"
   ]
  },
  {
   "cell_type": "markdown",
   "metadata": {},
   "source": [
    "### Measure of Spread\n",
    "\n",
    "Quantiles are a great way of summarizing numerical data since they can be used to measure center and spread, as well as to get a sense of where a data point stands in relation to the rest of the data set. For example, you might want to give a discount to the 20% most active users on a website.\n",
    "\n",
    "- **np.quantile(arr, q, axis):** Compute the qth quantile of the given data.\n",
    "\n",
    "<p style=\"text-align:center;\">\n",
    "    <img src='https://miro.medium.com/max/431/0*zLtERtPW5j9c6TR3.png'>\n",
    "</p>"
   ]
  },
  {
   "cell_type": "code",
   "execution_count": 11,
   "metadata": {},
   "outputs": [
    {
     "name": "stdout",
     "output_type": "stream",
     "text": [
      "Q2/Median Quantile of Array :  12.0\n",
      "Q1 Quantile of Array :  6.5\n",
      "Q3 Quantile of Array :  50.5\n",
      "100th Quantile of Array :  5.6\n"
     ]
    }
   ],
   "source": [
    "arr2 = np.array([5,6,7,12,34,67,89]) \n",
    "\n",
    "print(\"Q2/Median Quantile of Array : \", np.quantile(arr2, .50))\n",
    "print(\"Q1 Quantile of Array : \", np.quantile(arr2, .25))\n",
    "print(\"Q3 Quantile of Array : \", np.quantile(arr2, .75))\n",
    "print(\"100th Quantile of Array : \", np.quantile(arr2, .1))"
   ]
  },
  {
   "cell_type": "markdown",
   "metadata": {},
   "source": [
    "Interquartile range, or IQR is used to measure spread that’s less influenced by outliers and to find the outliers.\n",
    "- ***If a value is less than Q1−1.5×IQR or greater than Q3+1.5×IQR then it’s considered an outlier.***\n",
    "\n",
    "Calculate the lower and upper cutoffs for outliers\n",
    "- lower = q1 – 1.5 * iqr\n",
    "- upper = q3 + 1.5 * iqr\n"
   ]
  },
  {
   "cell_type": "code",
   "execution_count": 12,
   "metadata": {},
   "outputs": [
    {
     "name": "stdout",
     "output_type": "stream",
     "text": [
      "35.0\n"
     ]
    }
   ],
   "source": [
    "### Implementation\n",
    "arr = [31, 35, 45, 49, 59, 69, 74, 79, 80, 81, 89, 94, 96, 99, 101, 104, 112, 117,119,127,134]\n",
    "  \n",
    "## First quartile (Q1)\n",
    "Q1 = np.quantile(arr, .25)\n",
    "  \n",
    "## Third quartile (Q3)\n",
    "Q3 = np.quantile(arr, .75)\n",
    "  \n",
    "## Interquartile range (IQR)\n",
    "IQR = Q3 - Q1\n",
    "  \n",
    "print(IQR)"
   ]
  },
  {
   "cell_type": "markdown",
   "metadata": {},
   "source": [
    "### Continuous Distribution Function\n",
    "\n",
    "Distribution with location (loc) and Scale (scale) parameters. Continuous Distributions can be uniform or can take forms where some values have a higher probability than others."
   ]
  },
  {
   "cell_type": "code",
   "execution_count": 13,
   "metadata": {},
   "outputs": [
    {
     "name": "stdout",
     "output_type": "stream",
     "text": [
      "[0.2 0.4 0.6 1.  1.  1.  1. ]\n"
     ]
    }
   ],
   "source": [
    "from scipy.stats import uniform\n",
    "\n",
    "arr2 = np.array([5,6,7,12,34,67,89]) \n",
    "print(uniform.cdf(arr2, loc= 4 , scale= 5))"
   ]
  },
  {
   "cell_type": "markdown",
   "metadata": {},
   "source": [
    "#### Normal Distribution\n",
    "\n",
    "Also known as continuous random variable, the variable can take any value."
   ]
  },
  {
   "cell_type": "code",
   "execution_count": 14,
   "metadata": {},
   "outputs": [
    {
     "name": "stdout",
     "output_type": "stream",
     "text": [
      "[ 1.34075503 -0.95416525  4.00000928  0.8778963   1.88079361  0.10043372]\n"
     ]
    }
   ],
   "source": [
    "from scipy.stats import norm\n",
    "import numpy as np\n",
    "\n",
    "arr2 = np.array([0.91,0.17,0.99996833, 0.81, 0.97,0.54])\n",
    "print(norm.ppf(arr2))"
   ]
  },
  {
   "cell_type": "code",
   "execution_count": null,
   "metadata": {},
   "outputs": [],
   "source": []
  }
 ],
 "metadata": {
  "interpreter": {
   "hash": "d26db0583b8d86dff58934c3f0443a821e6254989a7bf836030ed14e58471b87"
  },
  "kernelspec": {
   "display_name": "Python 3.9.7 ('base')",
   "language": "python",
   "name": "python3"
  },
  "language_info": {
   "codemirror_mode": {
    "name": "ipython",
    "version": 3
   },
   "file_extension": ".py",
   "mimetype": "text/x-python",
   "name": "python",
   "nbconvert_exporter": "python",
   "pygments_lexer": "ipython3",
   "version": "3.9.7"
  },
  "orig_nbformat": 4
 },
 "nbformat": 4,
 "nbformat_minor": 2
}
