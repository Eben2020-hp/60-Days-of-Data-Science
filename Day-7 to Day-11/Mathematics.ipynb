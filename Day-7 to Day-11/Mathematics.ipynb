{
 "cells": [
  {
   "cell_type": "markdown",
   "metadata": {},
   "source": [
    "## Day 8 : Mathematics"
   ]
  },
  {
   "cell_type": "markdown",
   "metadata": {},
   "source": [
    "**REFERENCE:** https://medium.datadriveninvestor.com/day-8-60-days-of-data-science-and-machine-learning-5155cfc78a68"
   ]
  },
  {
   "cell_type": "markdown",
   "metadata": {},
   "source": [
    "Maths is extremely important in data science and machine learning. While its vast some of the topics we should study are —\n",
    "1. Linear Algebra\n",
    "2. Analytic Geometry\n",
    "3. Matrix Decompositions\n",
    "4. Bayes Theorem\n",
    "5. Vector Calculus\n",
    "6. Probability and Distribution\n",
    "7. Exploratory & Descriptive Statistics"
   ]
  },
  {
   "cell_type": "markdown",
   "metadata": {},
   "source": [
    "### Bayes Theorem \n",
    "It’s a method which is used to determine conditional probabilities which means the probability of one event occurring given that another event has already occurred.\n",
    "- The conditional probability can be calculated as follows —\n",
    "    - P(A | B) = P(A, B) / P(B)\n",
    "Bayes theorem is extensively used in the medical sciences ( to calculate the likelihood ratio if some one has a disease or not). Nevertheless, it’s also used in the other applications — filtering spam.\n",
    "<p align= 'center'>\n",
    "    <img src=\"https://www.gstatic.com/education/formulas2/397133473/en/bayes__theorem.svg\">\n",
    "</p>\n",
    "\n",
    "> A,B = Events.\n",
    "\n",
    "> P(A|B) = Probability of A given B is True.\n",
    "\n",
    "> P(B|A) = Probability of B given A is True.\n",
    "\n",
    "> P(A), P(B) = The Independent Probabilities of A and B.\n",
    "\n",
    "- This method was proposed by Thomas Bayes during the Mid-18th centuary. It is recognized as a systematic way of learning from experience or obtaining new evidences.\n",
    "\n",
    "<p align= 'center'>\n",
    "    <img src=\"https://encrypted-tbn0.gstatic.com/images?q=tbn:ANd9GcQjBeo2EcP1EUkviW2WyHbrazLOfOHL-Q79UBkHIEpnLI4dwvpdFHjhBt4NJRUELVRxBw&usqp=CAU\">\n",
    "</p>\n"
   ]
  },
  {
   "cell_type": "markdown",
   "metadata": {},
   "source": [
    "### Linear Algebra\n",
    "\n",
    "It is extremely important to have good knowledge of below mentioned linear algebra concepts if you are trying to understand the underlying concepts behind machine learning. In the subset, below topics will help boot up:\n",
    "\n",
    "1. Matrix and Vectors\n",
    "Using matrix you can perform various number of operations like multiplication, rank, conjugate and transformation.\n",
    "\n",
    "2. Symmetric Matrix\n",
    "One of the most important concept of ML. When a matrix is multiplied with its transpose, then a symmetric matrix is formed and they hold the property of factorization.\n",
    "\n",
    "3. Diagonal Matrix\n",
    "It’s a matrix whose non-diagonal elements are all zero.\n",
    "\n",
    "4. Orthogonal Matrix\n",
    "It’s a matrix whose product of the transpose and the matrix itself is equal to an Identity matrix. They are quite useful in maintaining numerical stability.\n",
    "    - In linear algebra, an orthogonal matrix, or orthonormal matrix, is a real square matrix whose columns and rows are orthonormal vectors (A.B = 0 || A.A = 1).\n",
    "\n",
    "5. Eigenvalues and Eigenvectors\n",
    "Eigenvalues and Eigenvectors are used to reduce noise in the data, to reduce overfitting as it eliminates the strongly co-related features very well, to reduce the dimensions in the computation intensive problems. Matrix Decompositions and Factorization which has LU Matrix Decomposition, QR Matrix Decomposition and Cholesky Decomposition.\n",
    "\n",
    "6. Principal Component Analysis\n",
    "In simple terms, Principal Component Analysis is the method which is used to reduce the dimension of your data to 2D/3D data based on the requirements. PCA is an important concept in ML as it solves the curse of dimensionality as it’s a a fundamental dimensionality reduction technique.\n",
    "\n",
    "7. Singular Value Decomposition\n",
    "Singular value decomposition are used to untangle information in the higher dimensional raw data.\n",
    "\n",
    "Some of the great libraries that is used are —\n",
    "- **BLAS:** Basic Linear Algebra Subprograms like multiplication, inverse etc\n",
    "- **LAPACK:** Linear Algebra Library\n",
    "- **Octave:** Octave is the open source version of MATLAB and built for linear algebra.\n",
    "- **SciPy numpy.linalg :** LU decomposition and the Schur decomposition, multiple ways of calculating the pseudoinverse, and matrix transcendentals such as the matrix logarithm."
   ]
  },
  {
   "cell_type": "markdown",
   "metadata": {},
   "source": [
    "#### Question 1: Symmetric and Skew Symmetric Matrix\n",
    "A matrix is Symmetric Matrix if transpose of a matrix is matrix itself.\n",
    "- Consider a matrix A, then Transpose of A = A\n",
    "\n",
    "A matrix is Skew Symmetric Matrix if transpose of a matrix is negative of itself.\n",
    "- Consider a matrix A, then Transpose of A = –A "
   ]
  },
  {
   "cell_type": "markdown",
   "metadata": {},
   "source": [
    "### Calculus\n",
    "\n",
    "Good understanding of calculus involves understanding how functions change over time (derivatives) to understand properties of functions and their behaviour, and to calculate the total amount of a quantity that accumulates over a time period (integrals).\n",
    "\n",
    "For this you can use Python using SymPy, which is a Python library for symbolic computation. To narrow down to the most important concepts, you should cover — how to decompose a linear equation into slope and y-intercept and build the intuition behind slope, secant and tangent lines, calculus concepts known as critical points, extreme values, the power rule as well the linearity of differentiation.\n",
    "\n",
    "<p align= 'center'>\n",
    "    <img src=\"https://miro.medium.com/max/493/0*rgy0m36IO6JT-WNz.png\">\n",
    "</p>\n",
    "\n",
    "Understand the limits and finite differences — like what a limit is and different properties of limits and how to apply them to calculate limits for various functions. Differentiate using finite differences is to use the differentiate_finite function. Limits Using SymPy is a great resource."
   ]
  },
  {
   "cell_type": "markdown",
   "metadata": {},
   "source": [
    "## CHEAT SHEETS\n",
    "\n",
    "<p align= 'center'>\n",
    "    <img src=\"https://miro.medium.com/max/700/1*NmykJ0eoiedxWxhTc_7y1g.png\">\n",
    "    <img src=\"https://miro.medium.com/max/700/1*BU7qxXhL6lBzh0tjjZ1VKA.png\">\n",
    "    <img src=\"https://miro.medium.com/max/700/0*0RXUpBNnPwzJ4UwX.png\">\n",
    "    <img src=\"https://miro.medium.com/max/700/0*JX9cfLnE2BW9bGI8.png\">\n",
    "</p>"
   ]
  }
 ],
 "metadata": {
  "language_info": {
   "name": "python"
  },
  "orig_nbformat": 4
 },
 "nbformat": 4,
 "nbformat_minor": 2
}
