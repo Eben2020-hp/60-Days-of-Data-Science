{
 "cells": [
  {
   "cell_type": "markdown",
   "metadata": {},
   "source": [
    "## Day 6 : Advanced Python with Implementation"
   ]
  },
  {
   "cell_type": "markdown",
   "metadata": {},
   "source": [
    "**REFERENCE:** https://medium.datadriveninvestor.com/day-6-60-days-of-data-science-and-machine-learning-series-3cfd04c1011c"
   ]
  },
  {
   "cell_type": "markdown",
   "metadata": {},
   "source": [
    "### Decorators in Python\n",
    "\n",
    "In Python, a decorator is any callable Python object that is used to modify a function or a class. It takes a function, adds some functionality, and returns it. So rather than passing in a the result of the function like a message into the function, we can use decorators to modify the function and we can pass in a function as a parameter.\n",
    "\n",
    "- Decorators are a very powerful and useful tool in Python since it allows programmers to modify/control the behavior of function or class.\n",
    "- In Decorators, functions are passed as an argument into another function and then called inside the wrapper function.\n",
    "- Decorators are usually called before the definition of a function you want to decorate.\n",
    "- There are two different kinds of decorators in Python:\n",
    "    - Function decorators\n",
    "    - Class decorators\n",
    "- When using Multiple Decorators to a single function, the decorators will be applied in the order they’ve been called.\n",
    "- By recalling that decorator function, we can re-use the decorator."
   ]
  },
  {
   "cell_type": "markdown",
   "metadata": {},
   "source": [
    "#### IMPLEMENTATION"
   ]
  },
  {
   "cell_type": "code",
   "execution_count": 1,
   "metadata": {},
   "outputs": [
    {
     "name": "stdout",
     "output_type": "stream",
     "text": [
      "Function has ran\n"
     ]
    }
   ],
   "source": [
    "### Introduction --> This is the base method.\n",
    "\n",
    "def decorator_function(original_function):\n",
    "    def wrapper_function():\n",
    "        return original_function()\n",
    "    return wrapper_function\n",
    "\n",
    "def display_function():\n",
    "    print(\"Function has ran\")\n",
    "\n",
    "decorated_display = decorator_function(display_function)\n",
    "decorated_display()             #### Excecutes the wrapper function which then executes the original function [display_function()]."
   ]
  },
  {
   "cell_type": "markdown",
   "metadata": {},
   "source": [
    "- Here to the decorated_display() function, we pass in the decorator_function() which takes the display_function() as its input. Now in the decorator_function, we can see that the wrapper_function() is waiting to be called and once it is invoked we obtain the result of the original_function() which is that output of the display_function().\n",
    "\n",
    "- if we use @decorator_function() to decorate (above) the display_function(), it is the same as what we have done."
   ]
  },
  {
   "cell_type": "code",
   "execution_count": 2,
   "metadata": {},
   "outputs": [
    {
     "name": "stdout",
     "output_type": "stream",
     "text": [
      "Wrapper executed this before display_function\n",
      "Function has ran\n"
     ]
    }
   ],
   "source": [
    "### Adding the @ symbol before the function name, makes it a decorator.\n",
    "\n",
    "def decorator_function(original_function):\n",
    "    def wrapper_function():\n",
    "        print(f'Wrapper executed this before {original_function.__name__}')\n",
    "        return original_function()\n",
    "    return wrapper_function\n",
    "\n",
    "@decorator_function\n",
    "def display_function():\n",
    "    print(\"Function has ran\")\n",
    "\n",
    "display_function()"
   ]
  },
  {
   "cell_type": "code",
   "execution_count": 3,
   "metadata": {},
   "outputs": [
    {
     "name": "stdout",
     "output_type": "stream",
     "text": [
      "Before calling sqr\n",
      "400\n",
      "After calling sqr\n"
     ]
    }
   ],
   "source": [
    "### Decorators\n",
    "\n",
    "def test_decorator(func):\n",
    "\n",
    "    def function_wrapper(x):\n",
    "        print(\"Before calling \" + func.__name__)\n",
    "        res = func(x)\n",
    "        print(res)\n",
    "        print(\"After calling \" + func.__name__)\n",
    "    return function_wrapper\n",
    "\n",
    "@test_decorator\n",
    "def sqr(n):\n",
    "    return n**2\n",
    "    \n",
    "sqr(20)"
   ]
  },
  {
   "cell_type": "code",
   "execution_count": 4,
   "metadata": {},
   "outputs": [
    {
     "data": {
      "text/plain": [
       "['mother', 'of', 'dragons']"
      ]
     },
     "execution_count": 4,
     "metadata": {},
     "output_type": "execute_result"
    }
   ],
   "source": [
    "### Multiple Decorators\n",
    "\n",
    "def lowercase_decorator(function):\n",
    "    def wrapper():\n",
    "        func= function()\n",
    "        make_lowercase = func.lower()\n",
    "        return make_lowercase\n",
    "    return wrapper\n",
    "\n",
    "def split_string(function):\n",
    "    def wrapper():\n",
    "        func= function()\n",
    "        split_string = func.split()\n",
    "        return split_string\n",
    "    return wrapper\n",
    "\n",
    "@split_string\n",
    "@lowercase_decorator\n",
    "def test_func():\n",
    "    return 'MOTHER OF DRAGONS'\n",
    "    \n",
    "test_func()"
   ]
  },
  {
   "cell_type": "markdown",
   "metadata": {},
   "source": [
    "### Memoization using Decorators\n",
    "\n",
    "In Python, memoization is a technique which allows you to optimize a Python function by caching its output based on the parameters you supply to it.\n",
    "\n",
    "- Once you memoize a function, it will only compute its output once for each set of parameters you call it with. Every call after the first will be quickly retrieved from a cache.\n",
    "- If you want to speed up the parts in your program that are expensive, memoization can be a great technique to use.\n",
    "\n",
    "There are four approaches to Memoization —\n",
    "- Using global\n",
    "- Using objects\n",
    "- Using default parameter\n",
    "- Using a Callable Class\n",
    "\n",
    "It is all about remembering the answer."
   ]
  },
  {
   "cell_type": "code",
   "execution_count": 5,
   "metadata": {},
   "outputs": [
    {
     "name": "stdout",
     "output_type": "stream",
     "text": [
      "Computing 5\n",
      "25\n",
      "Computing 10\n",
      "100\n",
      "25\n",
      "100\n"
     ]
    }
   ],
   "source": [
    "### Introduction to Memoization\n",
    "import time\n",
    "\n",
    "cache_dict = {}\n",
    "\n",
    "def expensive_function(num):\n",
    "    if num in cache_dict:\n",
    "        return cache_dict[num]\n",
    "    print(f'Computing {num}')\n",
    "    time.sleep(1)\n",
    "    cache_dict[num] = num*num\n",
    "    return cache_dict[num]\n",
    "\n",
    "\n",
    "result = expensive_function(5)\n",
    "print(result)\n",
    "\n",
    "result = expensive_function(10)\n",
    "print(result)\n",
    "\n",
    "result = expensive_function(5)\n",
    "print(result)\n",
    "\n",
    "result = expensive_function(10)\n",
    "print(result)"
   ]
  },
  {
   "cell_type": "markdown",
   "metadata": {},
   "source": [
    "- We can see that the time complexity has reduced."
   ]
  },
  {
   "cell_type": "code",
   "execution_count": 6,
   "metadata": {},
   "outputs": [
    {
     "data": {
      "text/plain": [
       "6765"
      ]
     },
     "execution_count": 6,
     "metadata": {},
     "output_type": "execute_result"
    }
   ],
   "source": [
    "### Fibonacci Series using Memoization & using Decorators\n",
    "\n",
    "def memoization_func(function):\n",
    "    dict_one = {}                           #### We create a dictionary to store the values.\n",
    "    def h(num):\n",
    "        if num not in dict_one:            \n",
    "            dict_one[num] = function(num)\n",
    "        return dict_one[num]\n",
    "    return h\n",
    "    \n",
    "@memoization_func\n",
    "def fib(n):\n",
    "    if n == 0:\n",
    "        return 0\n",
    "    elif n == 1:\n",
    "        return 1\n",
    "    else:\n",
    "        return fib(n-1) + fib(n-2)\n",
    "\n",
    "fib(20)"
   ]
  },
  {
   "cell_type": "markdown",
   "metadata": {},
   "source": [
    "### Default Dictionary\n",
    "\n",
    "In python, a dictionary is a container that holds key-value pairs. Keys must be unique, immutable objects\n",
    "- If you try to access or modify keys that don’t exist in the dictionary, it raise a KeyError and break up your code execution. To tackle this issue, Python defaultdict type, a dictionary-like class is used.\n",
    "- If you try to access or modify a missing key, then defaultdict will automatically create the key and generate a default value for it.\n",
    "- A defaultdict will never raise a KeyError.\n",
    "- Any key that does not exist gets the value returned by the default factory.\n",
    "- Hence, whenever you need a dictionary, and each element’s value should start with a default value, use a defaultdict."
   ]
  },
  {
   "cell_type": "code",
   "execution_count": 7,
   "metadata": {},
   "outputs": [
    {
     "name": "stdout",
     "output_type": "stream",
     "text": [
      "{0: 0, 1: 1, 2: 2, 3: 3, 4: 4, 5: 5, 6: 6, 7: 7, 8: 8, 9: 9}\n",
      "\n"
     ]
    },
    {
     "ename": "KeyError",
     "evalue": "25",
     "output_type": "error",
     "traceback": [
      "\u001b[0;31m---------------------------------------------------------------------------\u001b[0m",
      "\u001b[0;31mKeyError\u001b[0m                                  Traceback (most recent call last)",
      "\u001b[0;32m/var/folders/k3/yy8qff1s4sj0k71g9rcc339w8gvs2x/T/ipykernel_90660/251082101.py\u001b[0m in \u001b[0;36m<module>\u001b[0;34m\u001b[0m\n\u001b[1;32m      7\u001b[0m \u001b[0mprint\u001b[0m\u001b[0;34m(\u001b[0m\u001b[0mnormal_dict_var\u001b[0m\u001b[0;34m)\u001b[0m\u001b[0;34m\u001b[0m\u001b[0;34m\u001b[0m\u001b[0m\n\u001b[1;32m      8\u001b[0m \u001b[0mprint\u001b[0m\u001b[0;34m(\u001b[0m\u001b[0;34m)\u001b[0m\u001b[0;34m\u001b[0m\u001b[0;34m\u001b[0m\u001b[0m\n\u001b[0;32m----> 9\u001b[0;31m \u001b[0mprint\u001b[0m\u001b[0;34m(\u001b[0m\u001b[0mnormal_dict_var\u001b[0m\u001b[0;34m[\u001b[0m\u001b[0;36m25\u001b[0m\u001b[0;34m]\u001b[0m\u001b[0;34m)\u001b[0m\u001b[0;34m\u001b[0m\u001b[0;34m\u001b[0m\u001b[0m\n\u001b[0m",
      "\u001b[0;31mKeyError\u001b[0m: 25"
     ]
    }
   ],
   "source": [
    "### A Normal Dictionary will give KeyError if the key is not present.\n",
    "normal_dict_var = {}\n",
    "\n",
    "for i in range(10): \n",
    "    normal_dict_var[i] = (i)\n",
    "\n",
    "print(normal_dict_var)\n",
    "print()\n",
    "print(normal_dict_var[25])"
   ]
  },
  {
   "cell_type": "code",
   "execution_count": 8,
   "metadata": {},
   "outputs": [
    {
     "name": "stdout",
     "output_type": "stream",
     "text": [
      "defaultdict(<class 'list'>, {0: [0], 1: [1], 2: [2], 3: [3], 4: [4], 5: [5], 6: [6], 7: [7], 8: [8], 9: [9]})\n",
      "\n",
      "[]\n",
      "\n",
      "defaultdict(<class 'list'>, {0: [0], 1: [1], 2: [2], 3: [3], 4: [4], 5: [5], 6: [6], 7: [7], 8: [8], 9: [9], 25: []})\n"
     ]
    }
   ],
   "source": [
    "### DefaultDict\n",
    "from collections import defaultdict \n",
    "     \n",
    "default_dict_var = defaultdict(list) \n",
    "  \n",
    "for i in range(10): \n",
    "    default_dict_var[i].append(i) \n",
    "\n",
    "print(default_dict_var)\n",
    "print()\n",
    "print(default_dict_var[25])\n",
    "print()\n",
    "print(default_dict_var)                         ### This time we will get the default value for the key which was not initially present."
   ]
  },
  {
   "cell_type": "markdown",
   "metadata": {},
   "source": [
    "### Ordered Dictionary\n",
    "\n",
    "In python, OrderedDict is one of the high performance container datatypes and a subclass of dict object. It maintains the order in which the keys are inserted. In case of deletion or re-insertion of the key, the order is maintained and used when creating an iterator.\n",
    "\n",
    "- It’s a dictionary subclass that remembers the order in which its contents are added.\n",
    "- When the value of a specified key is changed, the ordering of keys will not change for the OrderedDict.\n",
    "- If an item is overwritten in the OrderedDict, it’s position is maintained.\n",
    "- OrderedDict popitem removes the items in FIFO order.\n",
    "- The reversed() function can be used with OrderedDict to iterate elements in the reverse order.\n",
    "- OrderedDict has a move_to_end() method to efficiently reposition an element to an endpoint."
   ]
  },
  {
   "cell_type": "code",
   "execution_count": 9,
   "metadata": {},
   "outputs": [
    {
     "name": "stdout",
     "output_type": "stream",
     "text": [
      "Keys:  odict_keys(['Sunday', 'Monday', 'Tuesday'])\n",
      "Values:  odict_values([0, 1, 2])\n"
     ]
    }
   ],
   "source": [
    "### OrderedDict\n",
    "from collections import OrderedDict\n",
    "\n",
    "my_dict = {'Sunday': 0, 'Monday': 1, 'Tuesday': 2}\n",
    "ordered_dict = OrderedDict(my_dict)\n",
    "\n",
    "print(\"Keys: \", ordered_dict.keys())\n",
    "print(\"Values: \", ordered_dict.values())"
   ]
  },
  {
   "cell_type": "code",
   "execution_count": 10,
   "metadata": {},
   "outputs": [
    {
     "data": {
      "text/plain": [
       "OrderedDict([('Sunday', 0), ('Tuesday', 2), ('Monday', 1)])"
      ]
     },
     "execution_count": 10,
     "metadata": {},
     "output_type": "execute_result"
    }
   ],
   "source": [
    "### Move-To-End Method\n",
    "\n",
    "ordered_dict.move_to_end('Monday')\n",
    "ordered_dict"
   ]
  },
  {
   "cell_type": "markdown",
   "metadata": {},
   "source": [
    "### Generators in Python\n",
    "\n",
    "In Python, Generator functions act just like regular functions with just one difference that they use the Python yield keyword instead of return . A generator function is a function that returns an iterator. A generator expression is an expression that also returns an iterator.\n",
    "\n",
    "- Generator objects are used either by calling the next method on the generator object or using the generator object in a “for in” loop.\n",
    "- A return statement terminates a function entirely but a yield statement pauses the function saving all its states and later continues from there on successive calls.\n",
    "- Generator expressions can be used as the function arguments. Just like list comprehensions, generator expressions allow you to quickly create a generator object within minutes with just a few lines of code.\n",
    "- The major difference between a list comprehension and a generator expression is that a list comprehension produces the entire list while the generator expression produces one item at a time as lazy evaluation. For this reason, compared to a list comprehension, a generator expression is much more memory efficient."
   ]
  },
  {
   "cell_type": "code",
   "execution_count": 11,
   "metadata": {},
   "outputs": [
    {
     "name": "stdout",
     "output_type": "stream",
     "text": [
      "0,1,2,3,4,5,6,7,8,9,"
     ]
    }
   ],
   "source": [
    "### Python Generator\n",
    "\n",
    "def test_sequence():\n",
    "    num = 0\n",
    "    while num < 10:\n",
    "        yield num\n",
    "        num += 1\n",
    "\n",
    "for i in test_sequence():\n",
    "       print(i, end=\",\")"
   ]
  },
  {
   "cell_type": "code",
   "execution_count": 12,
   "metadata": {},
   "outputs": [
    {
     "name": "stdout",
     "output_type": "stream",
     "text": [
      "najorT"
     ]
    }
   ],
   "source": [
    "### Python Generator with Loop\n",
    "\n",
    "## Reverse a string\n",
    "def reverse_str(test_str):\n",
    "    length = len(test_str)\n",
    "\n",
    "    for i in range(length - 1, -1, -1):\n",
    "        yield test_str[i]\n",
    "\n",
    "for char in reverse_str(\"Trojan\"):\n",
    "    print(char, end =\"\")"
   ]
  },
  {
   "cell_type": "code",
   "execution_count": 13,
   "metadata": {},
   "outputs": [
    {
     "name": "stdout",
     "output_type": "stream",
     "text": [
      "[1, 27, 216, 1000]\n",
      "<class 'generator'>\n",
      "(1, 27, 216, 1000)\n"
     ]
    }
   ],
   "source": [
    "### Generator Expression\n",
    "\n",
    "## Initialize the List\n",
    "test_list = [1, 3, 6, 10]\n",
    "\n",
    "## List Comprehension\n",
    "list_comprehension = [x**3 for x in test_list]\n",
    "\n",
    "## Generator Expression\n",
    "test_generator = (x**3 for x in test_list)\n",
    "\n",
    "print(list_comprehension)\n",
    "print(type(test_generator))\n",
    "print(tuple(test_generator))            ### This will convert the generator to a tuple."
   ]
  },
  {
   "cell_type": "markdown",
   "metadata": {},
   "source": [
    "### Coroutine in Python\n",
    "\n",
    "- Coroutines are computer program components that generalize subroutines for non-preemptive multitasking, by allowing execution to be suspended and resumed.\n",
    "- Because coroutines can pause and resume execution context, they’re well suited to concurrent processing.\n",
    "- Coroutines are a special type of function that yield control over to the caller, but does not end its context in the process, instead maintaining it in an idle state.\n",
    "- Using coroutines the yield directive can also be used on the right-hand side of an = operator to signify it will accept a value at that point in time."
   ]
  },
  {
   "cell_type": "code",
   "execution_count": 14,
   "metadata": {},
   "outputs": [
    {
     "name": "stdout",
     "output_type": "stream",
     "text": [
      "My first Coroutine\n"
     ]
    }
   ],
   "source": [
    "### Coroutine\n",
    "\n",
    "def func(): \n",
    "    print(\"My first Coroutine\")\n",
    "    while True: \n",
    "        var = (yield) \n",
    "        print(var) \n",
    "\n",
    "coroutine = func() \n",
    "next(coroutine)"
   ]
  },
  {
   "cell_type": "code",
   "execution_count": null,
   "metadata": {},
   "outputs": [],
   "source": []
  }
 ],
 "metadata": {
  "interpreter": {
   "hash": "d26db0583b8d86dff58934c3f0443a821e6254989a7bf836030ed14e58471b87"
  },
  "kernelspec": {
   "display_name": "Python 3.9.7 ('base')",
   "language": "python",
   "name": "python3"
  },
  "language_info": {
   "codemirror_mode": {
    "name": "ipython",
    "version": 3
   },
   "file_extension": ".py",
   "mimetype": "text/x-python",
   "name": "python",
   "nbconvert_exporter": "python",
   "pygments_lexer": "ipython3",
   "version": "3.9.7"
  },
  "orig_nbformat": 4
 },
 "nbformat": 4,
 "nbformat_minor": 2
}
