{
 "cells": [
  {
   "cell_type": "markdown",
   "metadata": {},
   "source": [
    "## Day 4 : Intermediate Python with Implementation"
   ]
  },
  {
   "cell_type": "markdown",
   "metadata": {},
   "source": [
    "**REFERENCE:** https://medium.datadriveninvestor.com/day-4-60-days-of-data-science-and-machine-learning-series-dd590f54d928"
   ]
  },
  {
   "cell_type": "markdown",
   "metadata": {},
   "source": [
    "### Introduction to Functions in Python\n",
    "\n",
    "\n",
    "In python, functions are a convenient way to divide our code into useful blocks, allowing us to order our code, make it more readable, reuse it, define interfaces and save a lot of time\n",
    "\n",
    "- A function can be called multiple times to provide modularity and reusability to the python program.\n",
    "- We can easily track a large python program easily when it is divided into multiple functions.\n",
    "- There are mainly two types of functions —\n",
    "\n",
    "**User-define functions** — Defined by the user to perform the specific task.\n",
    "\n",
    "**Built-in functions** — Functions which are pre-defined.\n",
    "\n",
    "- We can define the function using the def keyword.\n",
    "- ***Arguments*** is the information that’s passed into the function.\n",
    "- The return statement is used to return the value. A function can have only one return.\n",
    "- Once created, we can call the function using the function name followed by the parentheses.\n"
   ]
  },
  {
   "cell_type": "markdown",
   "metadata": {},
   "source": [
    "### Private Variables in Python\n",
    "\n",
    "In python, a variable is a named location used to store or hold the value/data in the memory.\n",
    "\n",
    "- When we create a variable inside a function, it is local by default.\n",
    "- We create Private Variables by using underscore _ before a named prefix.\n",
    "- This is quite helpful for letting subclasses override methods without breaking intraclass method calls.\n",
    "\n",
    "There are three ways private variables can be implemented :\n",
    "> _ Single Leading Underscores\n",
    "\n",
    "> __ Double Leading Underscores\n",
    "\n",
    "> __ __ Double leading and Double trailing underscores __ __\n",
    "\n",
    "- __ __name __ __ is a special built-in variable which points to the name of the current module."
   ]
  },
  {
   "cell_type": "markdown",
   "metadata": {},
   "source": [
    "#### IMPLEMENTATION"
   ]
  },
  {
   "cell_type": "code",
   "execution_count": 1,
   "metadata": {},
   "outputs": [
    {
     "name": "stdout",
     "output_type": "stream",
     "text": [
      "Hello\n"
     ]
    }
   ],
   "source": [
    "### Private Variable \n",
    "\n",
    "## Single underscore (_)\n",
    "class test:\n",
    "    def __init__(self, num):            #### FOR VALIDATION __init__(self, num : int/float) OR __init__(self, num = 0)\n",
    "        self._num = num\n",
    "\n",
    "    ## Private Method (_privatemethod)\n",
    "    def _numfunc(self):\n",
    "        print(\"Hello\")\n",
    "\n",
    "obj = test(7)\n",
    "\n",
    "## Private Attributes can be accessed as normal variables\n",
    "obj._numfunc()"
   ]
  },
  {
   "cell_type": "code",
   "execution_count": 2,
   "metadata": {},
   "outputs": [],
   "source": [
    "### Private Variable\n",
    " \n",
    "## Double Underscore (__)\n",
    "class test:\n",
    "    def __init__(self,num):\n",
    "        self.__num = num\n",
    "\n",
    "    def Print(self):\n",
    "        print(\"__num = {}\".format(self.__num))\n",
    "\n",
    "obj = test(156)\n",
    "\n",
    "#### TRY \n",
    "## obj = test(156).Print()\n",
    "## obj\n",
    "### OR\n",
    "## obj.Print()"
   ]
  },
  {
   "cell_type": "code",
   "execution_count": 3,
   "metadata": {},
   "outputs": [],
   "source": [
    "### Private Variable \n",
    "\n",
    "## Trailing underscore (n_)\n",
    "class Test:\n",
    "    def __init__(self,c):\n",
    "\n",
    "        ## To avoid clash with python keyword \n",
    "        self.num_= c\n",
    "\n",
    "obj = Test(2048009)"
   ]
  },
  {
   "cell_type": "markdown",
   "metadata": {},
   "source": [
    "### Global and Non Local Variables in Python\n",
    "\n",
    "When we create a variable inside a function, it is local by default. When we define a variable outside of a function, it is global by default.\n",
    "\n",
    "- Nonlocal variables are used in nested functions whose local scope is not defined.\n",
    "- Global variables are those variables which are defined and declared outside a function and we can use them inside the function or we can use global keyword to make a variable global inside a function."
   ]
  },
  {
   "cell_type": "code",
   "execution_count": 4,
   "metadata": {},
   "outputs": [
    {
     "name": "stdout",
     "output_type": "stream",
     "text": [
      "local_variable\n"
     ]
    }
   ],
   "source": [
    "### Local Variable\n",
    "\n",
    "def test():\n",
    "    l = \"local_variable\"\n",
    "    return l\n",
    "\n",
    "var = test()\n",
    "print(var)"
   ]
  },
  {
   "cell_type": "code",
   "execution_count": 5,
   "metadata": {},
   "outputs": [
    {
     "name": "stdout",
     "output_type": "stream",
     "text": [
      "local variable x: 20\n",
      "global variable x: 10\n"
     ]
    }
   ],
   "source": [
    "### Global Variable\n",
    "\n",
    "var = 10\n",
    "def test():\n",
    "    var = 20\n",
    "    print(\"local variable x:\", var)\n",
    "\n",
    "val = test()\n",
    "print(\"global variable x:\", var)"
   ]
  },
  {
   "cell_type": "code",
   "execution_count": 6,
   "metadata": {},
   "outputs": [
    {
     "name": "stdout",
     "output_type": "stream",
     "text": [
      "Non Local value: non_local_variable\n",
      "Outer value: non_local_variable\n"
     ]
    }
   ],
   "source": [
    "### Non Local Variable -> Should be inside Nested Functions\n",
    "\n",
    "def test():\n",
    "    var = \"local_variable\"\n",
    "\n",
    "    def test_one():\n",
    "        nonlocal var\n",
    "        var = \"non_local_variable\"\n",
    "        print(\"Non Local value:\", var)\n",
    "\n",
    "    test_one()\n",
    "    print(\"Outer value:\", var)\n",
    "\n",
    "test()                      #### Inorder to obtain the \"local_variable\" as the Output --> remove the nonlocal command."
   ]
  },
  {
   "cell_type": "markdown",
   "metadata": {},
   "source": [
    "### First Class functions in Python\n",
    "\n",
    "In python, a function in Python is First Class Function, if it supports all of the properties of a First Class object such as —\n",
    "> It is an instance of an Object type\n",
    "\n",
    "> Pass First Class Function as argument of some other functions\n",
    "\n",
    "> Return Functions from other function\n",
    "\n",
    "> Store Functions in lists, sets or some other data structures\n",
    "\n",
    "> Functions can be stored as variable\n",
    "\n",
    "- In Python, a function can be assigned as variable which is used without function parentheses.\n",
    "- Functions are objects you can pass them as arguments to other functions.\n",
    "- First-class functions allow you to pass around behavior and abstract.\n",
    "- Closure functions — Functions are to be nested and they can carry forward parent function’s state with them."
   ]
  },
  {
   "cell_type": "code",
   "execution_count": 7,
   "metadata": {},
   "outputs": [
    {
     "name": "stdout",
     "output_type": "stream",
     "text": [
      "20\n"
     ]
    }
   ],
   "source": [
    "### Implementation 2\n",
    "\n",
    "def outer(a):   #### Outer function\n",
    "\n",
    "    def inner(b):   #### Inner function\n",
    "        return b + 10\n",
    "    return inner(a)\n",
    "\n",
    "a = 10\n",
    "var = outer(a) \n",
    "\n",
    "print(var)"
   ]
  },
  {
   "cell_type": "markdown",
   "metadata": {},
   "source": [
    "### _ _ import _ _() function\n",
    "\n",
    "In python, the inbuilt _ _ import _ _() function helps to import modules in runtime.\n",
    "\n",
    "#### Syntax —\n",
    "\n",
    "_ _ import _ _(name, globals, locals, fromlist, level)\n",
    "\n",
    "- **name :** Name of the module to import.\n",
    "- **globals :** Dictionary of global names used to determine how to interpret the name in a package context.\n",
    "- **locals :** Dictionary of local names names used to determine how to interpret the name in a package context.\n",
    "- **fromlist :** The fromlist gives the names of objects or submodules that should be imported from the module given by name.\n",
    "- **level :** level specifies whether to use absolute or relative imports.\n",
    "\n",
    "To import a module by name, use importlib.import_module()"
   ]
  },
  {
   "cell_type": "code",
   "execution_count": 8,
   "metadata": {},
   "outputs": [
    {
     "name": "stdout",
     "output_type": "stream",
     "text": [
      "17.4\n"
     ]
    }
   ],
   "source": [
    "### fabs() Method is defined in the math module which returns the absolute value of a number\n",
    "\n",
    "math_score = __import__('math', globals(), locals(), [], 0)\n",
    "\n",
    "print(math_score.fabs(-17.4))"
   ]
  },
  {
   "cell_type": "markdown",
   "metadata": {},
   "source": [
    "### Tuple Unpacking with Python Functions\n",
    "\n",
    "- In python, tuples are immutable data types. Python offers a very powerful tuple assignment tool that maps right hand side arguments into left hand side arguments i.e mapping is known as unpacking of a tuple of values into a normal variable.\n",
    "- During the unpacking of tuple, the total number of variables on the left-hand side should be equivalent to the total number of values in given tuple.\n",
    "\n",
    "- It uses a special syntax to pass optional arguments (*args) for tuple unpacking."
   ]
  },
  {
   "cell_type": "code",
   "execution_count": 9,
   "metadata": {},
   "outputs": [
    {
     "name": "stdout",
     "output_type": "stream",
     "text": [
      "sunday\n",
      "monday\n",
      "tuesday wednesday thursday\n"
     ]
    }
   ],
   "source": [
    "days = ('sunday', 'monday', 'tuesday','wednesday','thursday')\n",
    "(day1, day2, *day) = days\n",
    "\n",
    "print(day1)\n",
    "print(day2)\n",
    "print(*day)"
   ]
  },
  {
   "cell_type": "code",
   "execution_count": 10,
   "metadata": {},
   "outputs": [
    {
     "name": "stdout",
     "output_type": "stream",
     "text": [
      "300\n"
     ]
    }
   ],
   "source": [
    "def result(a, b):\n",
    "    return a + b\n",
    "\n",
    "## Function with normal variables\n",
    "print(result(100, 200))"
   ]
  },
  {
   "cell_type": "code",
   "execution_count": 11,
   "metadata": {},
   "outputs": [
    {
     "name": "stdout",
     "output_type": "stream",
     "text": [
      "400\n"
     ]
    }
   ],
   "source": [
    "### A tuple is created\n",
    "c = (100, 300)\n",
    "\n",
    "## Tuple is passed and the Function Unpacked Them\n",
    "print(result(*c))"
   ]
  },
  {
   "cell_type": "markdown",
   "metadata": {},
   "source": [
    "### Static Variables and Methods in Python\n",
    "\n",
    "In Python, Static variables are the variables that belong to the class and not to objects.\n",
    "- Static variables are shared amongst objects of the class.\n",
    "- Python allows providing same variable name for a class/static variable and an instance variable."
   ]
  },
  {
   "cell_type": "code",
   "execution_count": 12,
   "metadata": {},
   "outputs": [
    {
     "name": "stdout",
     "output_type": "stream",
     "text": [
      "25\n",
      "25\n"
     ]
    }
   ],
   "source": [
    "### Static Variable\n",
    "class test:\n",
    "    static_variable = 25        \n",
    "\n",
    "## Access through Class    \n",
    "print(test.static_variable) \n",
    "\n",
    "## Access through an Instance\n",
    "ins = test()\n",
    "print(ins.static_variable)"
   ]
  },
  {
   "cell_type": "code",
   "execution_count": 13,
   "metadata": {},
   "outputs": [
    {
     "name": "stdout",
     "output_type": "stream",
     "text": [
      "14\n",
      "25\n"
     ]
    }
   ],
   "source": [
    "## Change within an instance -> Change will happen only for the variable when instance is called. For Class it still remains the same\n",
    "\n",
    "ins.static_variable = 14\n",
    "print(ins.static_variable)  \n",
    "print(test.static_variable)"
   ]
  },
  {
   "cell_type": "markdown",
   "metadata": {},
   "source": [
    "- In Python, Static methods are the methods which are bound to the class rather than an object of the class.\n",
    "- Static Methods are called using the class name and not the objects of the class.\n",
    "- Static methods are bound to the class.\n",
    "\n",
    "There are two ways of defining a static method:\n",
    "- @staticmethod\n",
    "- staticmethod()"
   ]
  },
  {
   "cell_type": "code",
   "execution_count": 14,
   "metadata": {},
   "outputs": [
    {
     "name": "stdout",
     "output_type": "stream",
     "text": [
      "Welcome to sample shape class\n",
      "Triangles\n"
     ]
    }
   ],
   "source": [
    "### Static Method : Use @staticmethod\n",
    "class sample_shape:\n",
    "    \n",
    "    @staticmethod\n",
    "    def msgg(msg):\n",
    "        print(msg)\n",
    "        print(\"Triangles\")\n",
    "        \n",
    "sample_shape.msgg(\"Welcome to sample shape class\")"
   ]
  },
  {
   "cell_type": "markdown",
   "metadata": {},
   "source": [
    "> If the ***@staticmethod*** is not specified then we can't call the Method with an Instance. I will give rise to **TypeError.**"
   ]
  },
  {
   "cell_type": "code",
   "execution_count": null,
   "metadata": {},
   "outputs": [],
   "source": []
  },
  {
   "cell_type": "code",
   "execution_count": null,
   "metadata": {},
   "outputs": [],
   "source": []
  }
 ],
 "metadata": {
  "interpreter": {
   "hash": "d26db0583b8d86dff58934c3f0443a821e6254989a7bf836030ed14e58471b87"
  },
  "kernelspec": {
   "display_name": "Python 3.9.7 64-bit ('base': conda)",
   "language": "python",
   "name": "python3"
  },
  "language_info": {
   "codemirror_mode": {
    "name": "ipython",
    "version": 3
   },
   "file_extension": ".py",
   "mimetype": "text/x-python",
   "name": "python",
   "nbconvert_exporter": "python",
   "pygments_lexer": "ipython3",
   "version": "3.9.7"
  },
  "orig_nbformat": 4
 },
 "nbformat": 4,
 "nbformat_minor": 2
}
