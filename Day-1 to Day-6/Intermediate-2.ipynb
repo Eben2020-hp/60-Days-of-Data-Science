{
 "cells": [
  {
   "cell_type": "markdown",
   "metadata": {},
   "source": [
    "## Day 5 : Intermediate Python with Implementation"
   ]
  },
  {
   "cell_type": "markdown",
   "metadata": {},
   "source": [
    "**REFERENCE:** https://medium.datadriveninvestor.com/day-5-60-days-of-data-science-and-machine-learning-series-f31259481904"
   ]
  },
  {
   "cell_type": "markdown",
   "metadata": {},
   "source": [
    "### Lambda Functions in Python\n",
    "\n",
    "In python, Lambda is used to create small anonymous functions using “lambda” keyword and can be used wherever function objects are needed.It can any number of arguments but only one expression.\n",
    "\n",
    "- It can be used inside another function.\n",
    "- In python normal functions are defined using the def keyword, anonymous functions are defined using the lambda keyword.\n",
    "- Whenever we require a nameless function for a short period of time, we use lambda functions.\n",
    "\n",
    "---\n",
    "**EXAMPLE:**\n",
    "\n",
    "var = lambda x: x * 5\n",
    "\n",
    "---"
   ]
  },
  {
   "cell_type": "markdown",
   "metadata": {},
   "source": [
    "#### IMPLEMENTATION"
   ]
  },
  {
   "cell_type": "code",
   "execution_count": 1,
   "metadata": {},
   "outputs": [
    {
     "data": {
      "text/plain": [
       "15"
      ]
     },
     "execution_count": 1,
     "metadata": {},
     "output_type": "execute_result"
    }
   ],
   "source": [
    "### A lambda function that adds 10 to the number passed in as an argument, and print the result\n",
    "\n",
    "add_10 = lambda x: x + 10\n",
    "add_10(5)"
   ]
  },
  {
   "cell_type": "code",
   "execution_count": 2,
   "metadata": {},
   "outputs": [
    {
     "data": {
      "text/plain": [
       "38"
      ]
     },
     "execution_count": 2,
     "metadata": {},
     "output_type": "execute_result"
    }
   ],
   "source": [
    "### A lambda function that takes the product of num1 and num2 and then adds num3 to get the final result\n",
    "\n",
    "x = lambda a, b, c : a * b + c\n",
    "x(5, 6, 8)"
   ]
  },
  {
   "cell_type": "markdown",
   "metadata": {},
   "source": [
    "### Map and Filter Functions in Python\n",
    "\n",
    "In python, Map allows you to process and transform the items of the iterables or collections without using a for loop.\n",
    "- In Python, the map() function applies the given function to each item of a given iterable construct (i.e lists, tuples etc) and returns a map object\n",
    "\n",
    "---\n",
    "**Syntax:**\n",
    "\n",
    "map(function, iterable)\n",
    "\n",
    "---"
   ]
  },
  {
   "cell_type": "code",
   "execution_count": 3,
   "metadata": {},
   "outputs": [
    {
     "name": "stdout",
     "output_type": "stream",
     "text": [
      "[('s', 1), ('t', 2), ('x', 3), ('y', 4), ('z', 5)]\n"
     ]
    }
   ],
   "source": [
    "### Map Function\n",
    "\n",
    "numbers = [1,2,3,4,5]\n",
    "strings = ['s', 't', 'x', 'y', 'z']\n",
    "\n",
    "mapped_list = list(map(lambda x, y: (x, y), strings, numbers))\n",
    "print(mapped_list)"
   ]
  },
  {
   "cell_type": "code",
   "execution_count": 4,
   "metadata": {},
   "outputs": [
    {
     "name": "stdout",
     "output_type": "stream",
     "text": [
      "['sUNDAY', 'mONDAY', 'tUESDAY', 'wEDNESDAY']\n"
     ]
    }
   ],
   "source": [
    "### Map Implementation\n",
    "\n",
    "days = ['Sunday', 'Monday', 'Tuesday', 'Wednesday']\n",
    "\n",
    "new_days = list(map(str.swapcase, days))\n",
    "print(new_days)"
   ]
  },
  {
   "cell_type": "markdown",
   "metadata": {},
   "source": [
    "- In Python, filter() function returns an iterator when the items are filtered through a function to test if the item is true or not\n",
    "\n",
    "---\n",
    "**Syntax:**\n",
    "\n",
    "filter(function, iterable)\n",
    "- Where function is the to be run for each item in the iterable.\n",
    "- Iterable is the iterable to be filtered.\n",
    "\n",
    "---"
   ]
  },
  {
   "cell_type": "code",
   "execution_count": 5,
   "metadata": {},
   "outputs": [
    {
     "name": "stdout",
     "output_type": "stream",
     "text": [
      "[23]\n"
     ]
    }
   ],
   "source": [
    "### Filter Function\n",
    "\n",
    "marks = [95, 40, 68, 95, 67, 61, 88, 23, 38, 92]\n",
    "\n",
    "def stud(score):\n",
    "    return score < 33\n",
    "\n",
    "fail_list = list(filter(stud, marks))\n",
    "print(fail_list)"
   ]
  },
  {
   "cell_type": "markdown",
   "metadata": {},
   "source": [
    "### Magic Methods in Python\n",
    "\n",
    "Magic methods in Python are the special methods that start and end with the double underscores\n",
    "- Magic methods are not meant to be invoked directly by you, but the invocation happens internally from the class once certain action is performed.\n",
    "\n",
    "> Examples for magic methods are: _ _ new _ _, _ _ repr _ _, _ _ init _ _, _ _ add _ _, _ _ len _ _, _ _ del _ _ etc. \n",
    "\n",
    "> The _ _ init _ _ method used for initialization is invoked without any call.\n",
    "\n",
    "- Use the dir() function to see the number of magic methods inherited by a class.\n",
    "- The advantage of using Python’s magic methods is that they provide a simple way to make objects behave like built-in types.\n",
    "- Magic methods can be used to emulate the behavior of built-in types of user-defined objects. Therefore, whenever you find yourself trying to manipulate a user-defined object’s output in a Python class, then use **magic methods**."
   ]
  },
  {
   "cell_type": "code",
   "execution_count": 6,
   "metadata": {},
   "outputs": [],
   "source": [
    "### __del__ method\n",
    "\n",
    "from os.path import join\n",
    "\n",
    "class FileObject:\n",
    "    def __init__(self, file_path= '~', file_name= 'test.txt'):\n",
    "        self.file = open(join(file_path, file_name), 'rt')\n",
    "\n",
    "    def __del__(self):\n",
    "        self.file.close()\n",
    "        del self.file"
   ]
  },
  {
   "cell_type": "code",
   "execution_count": 7,
   "metadata": {},
   "outputs": [
    {
     "data": {
      "text/plain": [
       "Object: Hello"
      ]
     },
     "execution_count": 7,
     "metadata": {},
     "output_type": "execute_result"
    }
   ],
   "source": [
    "### __repr__ method\n",
    "class String:\n",
    "    def __init__(self, string):\n",
    "        self.string = string\n",
    "\n",
    "    def __repr__(self):\n",
    "        return 'Object: {}'.format(self.string)\n",
    "\n",
    "String('Hello')"
   ]
  },
  {
   "cell_type": "markdown",
   "metadata": {},
   "source": [
    "### Inheritance and Polymorphism in Python\n",
    "\n",
    "- In Python, Inheritance and Polymorphism are very powerful and important concept.\n",
    "- Using inheritance you can use or inherit all the data fields and methods available in the parent class.\n",
    "- On top of it, you can add you own methods and data fields.\n",
    "- Python allows multiple inheritance i.e you can inherit from multiple classes.\n",
    "- Inheritance provides a way to write better organized code and re-use the code."
   ]
  },
  {
   "cell_type": "code",
   "execution_count": 8,
   "metadata": {},
   "outputs": [
    {
     "name": "stdout",
     "output_type": "stream",
     "text": [
      "Cziar TK720 in red color\n",
      "Cziar\n"
     ]
    }
   ],
   "source": [
    "### Inheritance\n",
    "class Vehicle:\n",
    "    def __init__(self, name, color):\n",
    "        self.__name = name      \n",
    "        self.__color = color\n",
    "\n",
    "    def getColor(self):         \n",
    "        return self.__color\n",
    "\n",
    "    def setColor(self, color):  \n",
    "        self.__color = color\n",
    "\n",
    "    def get_Name(self):          \n",
    "        return self.__name\n",
    "\n",
    "\n",
    "class Bike(Vehicle):                        #### Inheritance --> Child Class\n",
    "    def __init__(self, name, color, model):\n",
    "        super().__init__(name, color)       # call parent class\n",
    "        self.__model = model\n",
    "\n",
    "    def get_details(self):\n",
    "        return self.get_Name() + \" \" + self.__model + \" in \" +  self.getColor() + \" color\"\n",
    "\n",
    "\n",
    "\n",
    "object = Bike(\"Cziar\", \"red\", \"TK720\")\n",
    "print(object.get_details())\n",
    "print(object.get_Name())"
   ]
  },
  {
   "cell_type": "markdown",
   "metadata": {},
   "source": [
    "- In Python, Polymorphism allows us to define methods in the child class with the same name as defined in their parent class."
   ]
  },
  {
   "cell_type": "code",
   "execution_count": 9,
   "metadata": {},
   "outputs": [
    {
     "name": "stdout",
     "output_type": "stream",
     "text": [
      "36\n",
      "314.1592653589793\n"
     ]
    }
   ],
   "source": [
    "### Polymorphism\n",
    "from math import pi\n",
    "\n",
    "class Shape:\n",
    "    def __init__(self, name):\n",
    "        self.name = name\n",
    "\n",
    "    def area(self):\n",
    "        pass\n",
    "\n",
    "\n",
    "class Square(Shape):\n",
    "    def __init__(self, length):\n",
    "        super().__init__(\"Square\")\n",
    "        self.length = length\n",
    "\n",
    "    def area(self):                                 #### Polymorphism --> Overriding. Same name different implementation.\n",
    "        return self.length ** 2\n",
    "\n",
    "\n",
    "class Circle(Shape):\n",
    "    def __init__(self, radius):\n",
    "        super().__init__(\"Circle\")\n",
    "        self.radius = radius\n",
    "\n",
    "    def area(self):\n",
    "        return pi * (self.radius ** 2)\n",
    "\n",
    "\n",
    "a = Square(6)\n",
    "b = Circle(10)\n",
    "print(a.area())\n",
    "print(b.area())"
   ]
  },
  {
   "cell_type": "markdown",
   "metadata": {},
   "source": [
    "### Errors and Exception Handling in Python\n",
    "\n",
    "In Python, an error can be a syntax error or an exception. When the parser detects an incorrect statement, Syntax errors occur.\n",
    "\n",
    "- Exceptions errors are raised when an external event occurs which in some way changes the normal flow of the program.\n",
    "- Exception error occurs whenever syntactically correct python code results in an error.\n",
    "- Python comes with various built-in exceptions as well as the user can create user-defined exceptions.\n",
    "- Garbage collection is the memory management feature i.e a process of cleaning shared computer memory.\n",
    "\n",
    "Some of python’s built in exceptions —\n",
    "> **IndexError :** When the wrong index of a list is retrieved\n",
    "\n",
    "> **ImportError :** When an imported module is not found\n",
    "\n",
    "> **KeyError :** When the key of the dictionary is not found\n",
    "\n",
    "> **NameError:** When the variable is not defined\n",
    "\n",
    "> **MemoryError :** When a program run out of memory\n",
    "\n",
    "> **TypeError :** When a function and operation is applied in an incorrect type\n",
    "\n",
    "> **AssertionError :** When assert statement fails\n",
    "\n",
    "> **AttributeError :** When an attribute assignment is failed\n"
   ]
  },
  {
   "cell_type": "markdown",
   "metadata": {},
   "source": [
    "#### Try and Except in Python\n",
    "\n",
    "In Python, exceptions can be handled using a try statement\n",
    "- The block of code which can raise an exception is placed inside the try clause. The code that handles the exceptions is written in the except clause.\n",
    "- In case no exception has occurred, the except block is skipped and program normal flow continues.\n",
    "- A try clause can have any number of except clauses to handle different exceptions but only one will be executed in case the exception occurs.\n",
    "- We can also raise exceptions using the raise keyword.\n",
    "- The try statement in Python can have an optional finally clause which executes regardless of the result of the try- and except blocks."
   ]
  },
  {
   "cell_type": "code",
   "execution_count": 10,
   "metadata": {},
   "outputs": [
    {
     "name": "stdout",
     "output_type": "stream",
     "text": [
      "Error occurred\n",
      "Exit\n"
     ]
    }
   ],
   "source": [
    "### Try, Except, Finally\n",
    "\n",
    "try:\n",
    "    print(1 / 0)\n",
    "except:\n",
    "    print(\"Error occurred\")\n",
    "finally:\n",
    "    print(\"Exit\")"
   ]
  },
  {
   "cell_type": "markdown",
   "metadata": {},
   "source": [
    "#### User-defined Exceptions\n",
    "\n",
    "In Python, user can create his own error by creating a new exception class\n",
    "\n",
    "- Exceptions need to be derived from the Exception class, either directly or indirectly.\n",
    "- Exceptions errors are raised when an external event occurs which in some way changes the normal flow of the program.\n",
    "- User defined exceptions can be implemented by raising an exception explicitly, by using assert statement or by defining custom classes for user defined exceptions.\n",
    "- Use assert statement to implement constraints on the program. When, the condition given in assert statement is not met, the program gives AssertionError in output.\n",
    "- You can raise an existing exception by using the raise keyword and the name of the exception.\n",
    "- To create a custom exception class and define an error message, you need to derive the errors from the Exception class directly.\n",
    "- When creating a module that can raise several distinct errors, a common practice is to create a base class for exceptions defined by that module, and subclass that to create specific exception classes for different error conditions, this is called Hierarchical custom exceptions."
   ]
  },
  {
   "cell_type": "code",
   "execution_count": 11,
   "metadata": {},
   "outputs": [
    {
     "name": "stdout",
     "output_type": "stream",
     "text": [
      "Value too small\n",
      "124\n"
     ]
    }
   ],
   "source": [
    "class Error(Exception):\n",
    "    pass\n",
    "\n",
    "class TooSmallValueError(Error):\n",
    "    pass\n",
    "\n",
    "number = 100\n",
    "while True:\n",
    "    try:\n",
    "        num = int(input(\"Enter a number: \"))\n",
    "        if num < number:\n",
    "            raise TooSmallValueError\n",
    "        else:\n",
    "            print(num)\n",
    "            break\n",
    "    except TooSmallValueError:\n",
    "        print(\"Value too small\")"
   ]
  },
  {
   "cell_type": "markdown",
   "metadata": {},
   "source": [
    "#### Garbage Collection in Python\n",
    "\n",
    "In Python, Garbage collection is the memory management feature i.e a process of cleaning shared computer memory which is currently being put to use by a running program when that program no longer needs that memory and can be used by other programs.\n",
    "\n",
    "- In python, Garbage collection works automatically. Hence, python provides with good memory management and prevents the wastage of memory.\n",
    "- In python, forcible garbage collection can be done by calling collect() function of the gc module.\n",
    "- In python, when there is no reference left to the object in that case it is automatically destroyed by the Garbage collector of python and __del__() method is executed."
   ]
  },
  {
   "cell_type": "code",
   "execution_count": 12,
   "metadata": {},
   "outputs": [
    {
     "name": "stdout",
     "output_type": "stream",
     "text": [
      "Garbage Creation\n",
      "Collecting..\n",
      "Unreachable objects collected by GC: 1\n",
      "Uncollectable garbage list: []\n",
      "Collecting..\n",
      "Unreachable objects collected by GC: 1\n",
      "Uncollectable garbage list: []\n",
      "Collecting..\n",
      "Unreachable objects collected by GC: 1\n",
      "Uncollectable garbage list: []\n",
      "Collecting..\n",
      "Unreachable objects collected by GC: 1\n",
      "Uncollectable garbage list: []\n",
      "Collecting..\n",
      "Unreachable objects collected by GC: 1\n",
      "Uncollectable garbage list: []\n"
     ]
    }
   ],
   "source": [
    "### Manual Garbage Collection\n",
    "import sys, gc\n",
    "\n",
    "def test():\n",
    "    list = [18, 19, 20,34,78]\n",
    "    list.append(list)\n",
    "\n",
    "def main():\n",
    "    print(\"Garbage Creation\")\n",
    "    for i in range(5):\n",
    "        test()\n",
    "\n",
    "        print(\"Collecting..\")\n",
    "        n = gc.collect()\n",
    "        print(\"Unreachable objects collected by GC:\", n)\n",
    "        print(\"Uncollectable garbage list:\", gc.garbage)\n",
    "\n",
    "\n",
    "if __name__ == \"__main__\":\n",
    "    main()"
   ]
  },
  {
   "cell_type": "markdown",
   "metadata": {},
   "source": [
    "### Python Debugger\n",
    "\n",
    "Debugging is the process of locating and solving the errors in the program. In python, pdb which is a part of Python’s standard library is used to debug the code.\n",
    "\n",
    "- pdb module internally makes used of bdb and cmd modules.\n",
    "- It supports setting breakpoints and single stepping at the source line level, inspection of stack frames, source code listing etc..\n",
    "- To set the breakpoints, there is a built-in function called breakpoint().\n",
    "\n",
    "**REFER:** https://www.geeksforgeeks.org/python-debugger-python-pdb/"
   ]
  },
  {
   "cell_type": "code",
   "execution_count": 13,
   "metadata": {},
   "outputs": [
    {
     "name": "stdout",
     "output_type": "stream",
     "text": [
      "--Return--\n",
      "None\n",
      "> \u001b[0;32m/var/folders/k3/yy8qff1s4sj0k71g9rcc339w8gvs2x/T/ipykernel_72221/1884328670.py\u001b[0m(7)\u001b[0;36m<module>\u001b[0;34m()\u001b[0m\n",
      "\u001b[0;32m      5 \u001b[0;31m    \u001b[0;32mreturn\u001b[0m \u001b[0manswer\u001b[0m\u001b[0;34m\u001b[0m\u001b[0;34m\u001b[0m\u001b[0m\n",
      "\u001b[0m\u001b[0;32m      6 \u001b[0;31m\u001b[0;34m\u001b[0m\u001b[0m\n",
      "\u001b[0m\u001b[0;32m----> 7 \u001b[0;31m\u001b[0mpdb\u001b[0m\u001b[0;34m.\u001b[0m\u001b[0mset_trace\u001b[0m\u001b[0;34m(\u001b[0m\u001b[0;34m)\u001b[0m\u001b[0;34m\u001b[0m\u001b[0;34m\u001b[0m\u001b[0m\n",
      "\u001b[0m\u001b[0;32m      8 \u001b[0;31m\u001b[0ma\u001b[0m \u001b[0;34m=\u001b[0m \u001b[0mint\u001b[0m\u001b[0;34m(\u001b[0m\u001b[0minput\u001b[0m\u001b[0;34m(\u001b[0m\u001b[0;34m\"Enter first number : \"\u001b[0m\u001b[0;34m)\u001b[0m\u001b[0;34m)\u001b[0m\u001b[0;34m\u001b[0m\u001b[0;34m\u001b[0m\u001b[0m\n",
      "\u001b[0m\u001b[0;32m      9 \u001b[0;31m\u001b[0mb\u001b[0m \u001b[0;34m=\u001b[0m \u001b[0mint\u001b[0m\u001b[0;34m(\u001b[0m\u001b[0minput\u001b[0m\u001b[0;34m(\u001b[0m\u001b[0;34m\"Enter second number : \"\u001b[0m\u001b[0;34m)\u001b[0m\u001b[0;34m)\u001b[0m\u001b[0;34m\u001b[0m\u001b[0;34m\u001b[0m\u001b[0m\n",
      "\u001b[0m\n",
      "--KeyboardInterrupt--\n",
      "\n",
      "KeyboardInterrupt: Interrupted by user\n",
      "264\n"
     ]
    }
   ],
   "source": [
    "import pdb\n",
    "   \n",
    "def multiply(a, b):\n",
    "    answer = a * b\n",
    "    return answer\n",
    "\n",
    "pdb.set_trace()\n",
    "a = int(input(\"Enter first number : \"))\n",
    "b = int(input(\"Enter second number : \"))\n",
    "\n",
    "value = multiply(a, b)\n",
    "print(value)"
   ]
  },
  {
   "cell_type": "code",
   "execution_count": null,
   "metadata": {},
   "outputs": [],
   "source": []
  }
 ],
 "metadata": {
  "interpreter": {
   "hash": "d26db0583b8d86dff58934c3f0443a821e6254989a7bf836030ed14e58471b87"
  },
  "kernelspec": {
   "display_name": "Python 3.9.7 64-bit ('base': conda)",
   "language": "python",
   "name": "python3"
  },
  "language_info": {
   "codemirror_mode": {
    "name": "ipython",
    "version": 3
   },
   "file_extension": ".py",
   "mimetype": "text/x-python",
   "name": "python",
   "nbconvert_exporter": "python",
   "pygments_lexer": "ipython3",
   "version": "3.9.7"
  },
  "orig_nbformat": 4
 },
 "nbformat": 4,
 "nbformat_minor": 2
}
