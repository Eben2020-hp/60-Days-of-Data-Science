{
 "cells": [
  {
   "cell_type": "markdown",
   "metadata": {},
   "source": [
    "## Day 3 : Python Basics with Implementation"
   ]
  },
  {
   "cell_type": "markdown",
   "metadata": {},
   "source": [
    "**REFERENCE:** https://medium.datadriveninvestor.com/day-3-60-days-of-data-science-and-machine-learning-series-abcd9c6c5c18"
   ]
  },
  {
   "cell_type": "markdown",
   "metadata": {},
   "source": [
    "### Python Tuples\n",
    "\n",
    "- In python, a tuple is a collection of objects which is ordered and immutable i.e cannot be changed.\n",
    "- Created by placing sequence of elements within round () braces, separated by ‘ , ‘.\n",
    "- Values can be of any datatype.\n",
    "- Concatenation of tuples can be done by the use of ‘+’ operator.\n",
    "- Tuples are just like lists except that the tuples are immutable."
   ]
  },
  {
   "cell_type": "markdown",
   "metadata": {},
   "source": [
    "#### IMPLEMENTATION"
   ]
  },
  {
   "cell_type": "code",
   "execution_count": 1,
   "metadata": {},
   "outputs": [
    {
     "name": "stdout",
     "output_type": "stream",
     "text": [
      "(10, 'Hello', 3.14, 'a')\n",
      "<class 'tuple'>\n"
     ]
    }
   ],
   "source": [
    "### Tuple with items\n",
    "\n",
    "tuple_one = (10,\"Hello\",3.14,\"a\")\n",
    "print(tuple_one)\n",
    "print(type(tuple_one))"
   ]
  },
  {
   "cell_type": "code",
   "execution_count": 2,
   "metadata": {},
   "outputs": [
    {
     "name": "stdout",
     "output_type": "stream",
     "text": [
      "3.14\n",
      "('a', 3.14, 'Hello', 10)\n"
     ]
    }
   ],
   "source": [
    "### Negative Indexing : index of -1 refers to the last item, -2 to the second last item and so on\n",
    "\n",
    "tuple_two = (10,\"Hello\",3.14,\"a\")\n",
    "print(tuple_two[-2])\n",
    "\n",
    "## Reverse the tuple\n",
    "print(tuple_two[::-1])"
   ]
  },
  {
   "cell_type": "code",
   "execution_count": 3,
   "metadata": {},
   "outputs": [
    {
     "name": "stdout",
     "output_type": "stream",
     "text": [
      "(10, 'Hello', 3.14, 'a', 50, 60)\n",
      "(10, 'Hello', 3.14, 'a', 10, 'Hello', 3.14, 'a')\n"
     ]
    }
   ],
   "source": [
    "### Concatenation and Repeat in Tuples\n",
    "\n",
    "## Concatenation using + Operator.\n",
    "tuple_three = (10,\"Hello\",3.14,\"a\")\n",
    "print(tuple_three + (50,60))\n",
    "\n",
    "## Repeat using * Operator.\n",
    "print(tuple_three * 2)"
   ]
  },
  {
   "cell_type": "code",
   "execution_count": 4,
   "metadata": {},
   "outputs": [
    {
     "name": "stdout",
     "output_type": "stream",
     "text": [
      "True\n",
      "False\n"
     ]
    }
   ],
   "source": [
    "### Membership : check if an item exists in a tuple or not, using the keyword in\n",
    "\n",
    "tuple_four = (10,\"Hello\",3.14,\"a\")\n",
    "print(10 in tuple_four)\n",
    "print(\"World\" in tuple_four)"
   ]
  },
  {
   "cell_type": "code",
   "execution_count": 5,
   "metadata": {},
   "outputs": [
    {
     "name": "stdout",
     "output_type": "stream",
     "text": [
      "10\n",
      "Hello\n",
      "3.14\n",
      "a\n"
     ]
    }
   ],
   "source": [
    "### Iterate through Tuple : use for loop to iterate through each item in a tuple\n",
    "\n",
    "tuple_five = (10,\"Hello\",3.14,\"a\")\n",
    "for i in tuple_five:\n",
    "    print(i)"
   ]
  },
  {
   "cell_type": "code",
   "execution_count": 6,
   "metadata": {},
   "outputs": [
    {
     "name": "stdout",
     "output_type": "stream",
     "text": [
      "((10, 'Hello', 3.14, 'a'), (70, (8, 'Mike')))\n"
     ]
    }
   ],
   "source": [
    "### Nested Tuple\n",
    "\n",
    "tuple_six = ((10,\"Hello\",3.14,\"a\"), (70,(8,\"Mike\")))\n",
    "print(tuple_six)"
   ]
  },
  {
   "cell_type": "code",
   "execution_count": 7,
   "metadata": {},
   "outputs": [
    {
     "name": "stdout",
     "output_type": "stream",
     "text": [
      "(10, 'Hello', 3.14, 'a')\n",
      "(70, (8, 'Mike'))\n"
     ]
    }
   ],
   "source": [
    "### Unpacking a Tuple\n",
    "\n",
    "tuple_seven = ((10,\"Hello\",3.14,\"a\"), (70,(8,\"Mike\")))\n",
    "a,b = tuple_seven       #### Unpack using the assignment operator\n",
    "print(a)\n",
    "print(b)"
   ]
  },
  {
   "cell_type": "code",
   "execution_count": 8,
   "metadata": {},
   "outputs": [
    {
     "name": "stdout",
     "output_type": "stream",
     "text": [
      "(0, 10)\n",
      "(1, 'Hello')\n",
      "(2, 3.14)\n",
      "(3, 'a')\n"
     ]
    }
   ],
   "source": [
    "### Enumerate : use enumerate function\n",
    "\n",
    "tuple_eight = (10,\"Hello\",3.14,\"a\")\n",
    "for i in enumerate(tuple_eight):\n",
    "    print(i)\n"
   ]
  },
  {
   "cell_type": "markdown",
   "metadata": {},
   "source": [
    "### Question 1: What is the Enumerate Function?\n",
    "\n",
    "Instead of using the range() function, we can instead use the built-in enumerate() function in python. enumerate() allows us to iterate through a sequence but it keeps track of both the **index and the element**.\n",
    "\n",
    "The enumerate() function takes in an iterable as an argument, such as a list, string, tuple, or dictionary. In addition, it can also take in an optional argument, start, which specifies the number we want the count to start at (the default is 0)."
   ]
  },
  {
   "cell_type": "markdown",
   "metadata": {},
   "source": [
    "### Python Sets\n",
    "\n",
    "- In python, a set is a collection of objects which is both unchangeable and unordered (unindexed)\n",
    "- Sets make sure that there are no duplicate elements in the items sequence\n",
    "- Created by using the built-in set() function with an iterable object by placing the items inside curly {} braces, separated by ‘,’\n",
    "- Items can be added to the set by using built-in add() function\n",
    "- Items can be accessed by looping through the set using loops or using ‘in’ keyword\n",
    "- Items can be removed from the set by using built-in remove()"
   ]
  },
  {
   "cell_type": "markdown",
   "metadata": {},
   "source": [
    "### Question 2: What does it mean by Unchangeable and Unordered?\n",
    "\n",
    "\n",
    "#### Unordered\n",
    "Unordered means that the items in a set do not have a defined order. Set items can appear in a different order every time you use them, and cannot be referred to by index or key.\n",
    "\n",
    "#### Unchangeable\n",
    "Set items are unchangeable, meaning that we cannot change the items after the set has been created.\n",
    "> Once a set is created, you cannot change its items, but you can remove items and add new items."
   ]
  },
  {
   "cell_type": "code",
   "execution_count": 9,
   "metadata": {},
   "outputs": [
    {
     "name": "stdout",
     "output_type": "stream",
     "text": [
      "{40, 10, 20, 30}\n"
     ]
    }
   ],
   "source": [
    "### Create Set\n",
    "\n",
    "set_one = {10, 20, 30, 40}\n",
    "print(set_one)"
   ]
  },
  {
   "cell_type": "code",
   "execution_count": 10,
   "metadata": {},
   "outputs": [
    {
     "name": "stdout",
     "output_type": "stream",
     "text": [
      "{40, 10, 20, 30}\n"
     ]
    }
   ],
   "source": [
    "### Create set from list using set() \n",
    "set_two = set([10, 20, 30, 40, 30, 20])        \n",
    "print(set_two)              #### There will be no Duplicates and sets don't allow duplicates"
   ]
  },
  {
   "cell_type": "code",
   "execution_count": 11,
   "metadata": {},
   "outputs": [
    {
     "name": "stdout",
     "output_type": "stream",
     "text": [
      "After discard: {70, 40, 10, 80, 20, 60, 30}\n",
      "After removing element : {70, 10, 80, 20, 60, 30}\n",
      "After poping element : {10, 80, 20, 60, 30}\n"
     ]
    }
   ],
   "source": [
    "### Removing elements : Use the methods discard(), pop() and remove()\n",
    "\n",
    "set_three = {100, 70, 40, 10, 80, 20, 60, 30}\n",
    "\n",
    "## discard() Method\n",
    "set_three.discard(100)\n",
    "print(\"After discard:\",set_three)\n",
    "\n",
    "## remove() Method\n",
    "set_three.remove(40)\n",
    "print(\"After removing element :\", set_three)\n",
    "\n",
    "## pop() Method\n",
    "set_three.pop()\n",
    "print(\"After poping element :\", set_three)"
   ]
  },
  {
   "cell_type": "markdown",
   "metadata": {},
   "source": [
    "### Question 3: Difference between pop() Method in a List and Set?\n",
    "\n",
    "- In a List\n",
    "\n",
    "The .pop() method is an inbuilt function that removes and returns the **last value** from the List or the given index value.\n",
    "\n",
    "- In a Set\n",
    "\n",
    "This method removes a top element from the set but not the random element and returns the removed element. This is one of the basic functions of the set and accepts no arguments. The return value is the popped element from the set. This method removes and returns the **first value** from the Set."
   ]
  },
  {
   "cell_type": "code",
   "execution_count": 12,
   "metadata": {},
   "outputs": [
    {
     "name": "stdout",
     "output_type": "stream",
     "text": [
      "(0, 50)\n",
      "(1, 20)\n",
      "(2, 40)\n",
      "(3, 10)\n",
      "(4, 30)\n"
     ]
    }
   ],
   "source": [
    "### Enumerate : Returns an enumerate object which contains the index and value for all the items of the set as a pair\n",
    "set_four = {10, 20, 30, 40, 50, 30}\n",
    "for i in enumerate(set_four):\n",
    "    print(i)"
   ]
  },
  {
   "cell_type": "markdown",
   "metadata": {},
   "source": [
    "#### Set Operations"
   ]
  },
  {
   "cell_type": "code",
   "execution_count": 13,
   "metadata": {},
   "outputs": [],
   "source": [
    "X = {10, 20, 30, 40, 50}\n",
    "Y = {40, 50, 60, 70, 80}\n",
    "Z = {20, 30, 100, 50, 10}"
   ]
  },
  {
   "cell_type": "code",
   "execution_count": 14,
   "metadata": {},
   "outputs": [
    {
     "name": "stdout",
     "output_type": "stream",
     "text": [
      "Set Union using | operator: {100, 70, 40, 10, 80, 50, 20, 60, 30}\n",
      "Set Union using .union(): {100, 70, 40, 10, 80, 50, 20, 60, 30}\n"
     ]
    }
   ],
   "source": [
    "### Union : Union of X, Y, Z is a set of all elements from all three sets using | operator or union() method\n",
    "\n",
    "print(\"Set Union using | operator:\", X|Y|Z)\n",
    "print(\"Set Union using .union():\", X.union(Y,Z))"
   ]
  },
  {
   "cell_type": "code",
   "execution_count": 15,
   "metadata": {},
   "outputs": [
    {
     "name": "stdout",
     "output_type": "stream",
     "text": [
      "Set Intersection using & operator: {50}\n",
      "Set Intersection using .intersection(): {50}\n"
     ]
    }
   ],
   "source": [
    "### Intersection : Intersection of X, Y, Z is a set of all elements from all three sets using & operator or intersection()\n",
    "\n",
    "print(\"Set Intersection using & operator:\", X&Y&Z)\n",
    "print(\"Set Intersection using .intersection():\", X.intersection(Y,Z))"
   ]
  },
  {
   "cell_type": "code",
   "execution_count": 16,
   "metadata": {},
   "outputs": [
    {
     "name": "stdout",
     "output_type": "stream",
     "text": [
      "Set Difference using - operator: {10, 20, 30}\n",
      "Set Difference using .difference(): {10, 20, 30}\n"
     ]
    }
   ],
   "source": [
    "### Difference : Difference of X, Y is a set of all elements from both sets using - operator or difference()\n",
    "\n",
    "print(\"Set Difference using - operator:\", X-Y)\n",
    "print(\"Set Difference using .difference():\", X.difference(Y))"
   ]
  },
  {
   "cell_type": "code",
   "execution_count": 17,
   "metadata": {},
   "outputs": [
    {
     "name": "stdout",
     "output_type": "stream",
     "text": [
      "Set Symmetric Difference using ^ operator: {80, 50, 100, 70, 60}\n",
      "Set Symmetric Difference using .symmetric_difference(): {80, 50, 100, 70, 60}\n"
     ]
    }
   ],
   "source": [
    "### Symmetric Difference : Symmetric Difference of X, Y, Z is a set of all elements from all three sets using ^ operator or symmetric_difference() \n",
    "## Removes the Intersection\n",
    "            \n",
    "print(\"Set Symmetric Difference using ^ operator:\", X^Y^Z)\n",
    "print(\"Set Symmetric Difference using .symmetric_difference():\", X.symmetric_difference(Y).symmetric_difference(Z))"
   ]
  },
  {
   "cell_type": "markdown",
   "metadata": {},
   "source": [
    "<p style=\"text-align:center;\">\n",
    "<img src= \"https://i.stack.imgur.com/SRjCR.png\">\n",
    "</p>"
   ]
  },
  {
   "cell_type": "code",
   "execution_count": 18,
   "metadata": {},
   "outputs": [
    {
     "name": "stdout",
     "output_type": "stream",
     "text": [
      "frozenset({70, 40, 10, 80, 50, 20, 60, 30})\n"
     ]
    }
   ],
   "source": [
    "### Frozenset : Set which has the characteristics of a set, but its elements cannot be changed once assigned\n",
    "X = frozenset([10, 20, 30, 40, 50])\n",
    "Y = frozenset([40, 50, 60, 70, 80])\n",
    "\n",
    "print(X.union(Y))"
   ]
  },
  {
   "cell_type": "markdown",
   "metadata": {},
   "source": [
    "### Loops in Python\n",
    "\n",
    "#### If, Elif and Else Statements\n",
    "- In python, If, Elif and Else statements are used to facilitate decision making.\n",
    "    - That is, when we want to **execute a code only if a certain condition is satisfied**.\n",
    "- Python interprets non-zero values as True. None and 0 are interpreted as False.\n",
    "- The If block can have only one Else block but there can be multiple Elif blocks."
   ]
  },
  {
   "cell_type": "code",
   "execution_count": 19,
   "metadata": {},
   "outputs": [
    {
     "name": "stdout",
     "output_type": "stream",
     "text": [
      "Price is greater than 120\n"
     ]
    }
   ],
   "source": [
    "price = 200\n",
    "\n",
    "if price > 120:\n",
    "    print(\"Price is greater than 120\")\n",
    "elif price == 120:\n",
    "    print(\"Price is 120\")\n",
    "elif price < 120:\n",
    "    print(\"Price is less than 120\")\n",
    "else:\n",
    "    print(\"Exit\")"
   ]
  },
  {
   "cell_type": "code",
   "execution_count": 20,
   "metadata": {},
   "outputs": [
    {
     "name": "stdout",
     "output_type": "stream",
     "text": [
      "Condition third satisfied\n"
     ]
    }
   ],
   "source": [
    "### If, Elif and Else one liner\n",
    "x = 200\n",
    "  \n",
    "var = {x < 190: \"Condition one satisfied\", \n",
    "        x != 200: \"Condition two satisfied\"}.get(True, \"Condition third satisfied\")\n",
    "  \n",
    "print(var)"
   ]
  },
  {
   "cell_type": "markdown",
   "metadata": {},
   "source": [
    "#### While Statement\n",
    "- In python, while loop is used to traverse/iterate over a block of code as long as the test condition is true."
   ]
  },
  {
   "cell_type": "code",
   "execution_count": 21,
   "metadata": {},
   "outputs": [
    {
     "name": "stdout",
     "output_type": "stream",
     "text": [
      "1\n",
      "2\n",
      "3\n",
      "4\n",
      "5\n",
      "i is no longer less than 6\n"
     ]
    }
   ],
   "source": [
    "### While with Else statement\n",
    "\n",
    "i = 1\n",
    "while i < 6:\n",
    "  print(i)\n",
    "  i += 1\n",
    "else:\n",
    "  print(\"i is no longer less than 6\")"
   ]
  },
  {
   "cell_type": "markdown",
   "metadata": {},
   "source": [
    "#### For Loops and Range function\n",
    "- In python, for loop is used to traverse/iterate over a sequence (list, tuple, string etc)\n",
    "- Range (range()) is used to generate sequence of numbers where the syntax of range is:\n",
    "    - range(start, stop, step_size)"
   ]
  },
  {
   "cell_type": "code",
   "execution_count": 22,
   "metadata": {},
   "outputs": [
    {
     "name": "stdout",
     "output_type": "stream",
     "text": [
      "Today is sunday\n",
      "Today is monday\n",
      "Today is tuesday\n"
     ]
    }
   ],
   "source": [
    "### For loop with Range function\n",
    "\n",
    "days = ['sunday','monday','tuesday']\n",
    "\n",
    "for i in range(len(days)):\n",
    "    print(\"Today is\", days[i])"
   ]
  },
  {
   "cell_type": "markdown",
   "metadata": {},
   "source": [
    "#### Break and Continue Statement\n",
    "- In python, we can use **break statement** when we want to terminate the current loop without checking test condition.\n",
    "- Once terminated using the break statement, the control of the program goes to the statement immediately after the body of the loop.\n",
    "\n",
    "- In python, we can use **continue statement** when we want to skip the rest of the code for the current loop iteration."
   ]
  },
  {
   "cell_type": "code",
   "execution_count": 23,
   "metadata": {},
   "outputs": [
    {
     "name": "stdout",
     "output_type": "stream",
     "text": [
      "0\n",
      "1\n",
      "2\n",
      "3\n",
      "4\n",
      "5\n",
      "6\n",
      "7\n",
      "8\n",
      "9\n",
      "exit\n"
     ]
    }
   ],
   "source": [
    "### Break statement\n",
    "\n",
    "count = 0\n",
    "while True:\n",
    "    print(count)\n",
    "    count += 1\n",
    "    if count >= 10:\n",
    "        break\n",
    "    \n",
    "print('exit')"
   ]
  },
  {
   "cell_type": "code",
   "execution_count": 24,
   "metadata": {},
   "outputs": [
    {
     "name": "stdout",
     "output_type": "stream",
     "text": [
      "1\n",
      "3\n",
      "5\n",
      "7\n",
      "9\n",
      "11\n",
      "13\n"
     ]
    }
   ],
   "source": [
    "### Continue statement\n",
    "\n",
    "for x in range(15):\n",
    "    if (x % 2 == 0):\n",
    "        continue            ### Skip the rest and start again.\n",
    "    print(x)"
   ]
  },
  {
   "cell_type": "markdown",
   "metadata": {},
   "source": [
    "### Input Output in Python\n",
    "- In python, there are two inbuilt functions to read the input from the user\n",
    "    > - raw_input() Function : reads one line from user input and returns it as a string\n",
    "\n",
    "    > - input() Function : Similar to raw_input, except it evaluates the user expression"
   ]
  },
  {
   "cell_type": "code",
   "execution_count": 25,
   "metadata": {},
   "outputs": [],
   "source": [
    "### Input\n",
    "num = int(input('Enter a number: '))"
   ]
  },
  {
   "cell_type": "markdown",
   "metadata": {},
   "source": [
    "- In python, output is using the print() function\n",
    "- String literals in print() statement are used to format the output\n",
    "    > \\n : Add blank new line\n",
    "    \n",
    "    > “” : To print an empty line.\n",
    "    \n",
    "    \n",
    "- End keyword is used to print specific content at the end of the execution of the print() function"
   ]
  },
  {
   "cell_type": "code",
   "execution_count": 26,
   "metadata": {},
   "outputs": [
    {
     "name": "stdout",
     "output_type": "stream",
     "text": [
      "The value of num is 5\n",
      "The value is 5\n"
     ]
    }
   ],
   "source": [
    "num = 5\n",
    "\n",
    "print('The value of num is', num)\n",
    "print(\"The value is %d\" %num)"
   ]
  },
  {
   "cell_type": "markdown",
   "metadata": {},
   "source": [
    "### Python Object Oriented Programming\n",
    "\n",
    "- Python is a multi-paradigm programming language and supports Object Oriented programming. In Python everything is a object. An object has two characteristics:\n",
    "    - Attributes\n",
    "    - Behavior\n",
    "\n",
    "#### Principles of object-oriented programming System \n",
    "\n",
    "- **Class and Constructor** — It’s a blueprint for the object. In python we use the class keyword to define class. Class constructor is used to assign the values to the data members of the class when an object of the class is created.\n",
    "- **Object** — It’s an instantiation of a class.\n",
    "- **Method** — It’s a function that is associated with an object\n",
    "- **Inheritance** — Specifies that the child object acquires all the properties and behaviors of the parent object.\n",
    "- **Polymorphism** — Refers to functions having the same names but carrying different functionalities.\n",
    "- **Encapsulation** — To prevents data from direct modification, we can restrict access to methods and variables in python"
   ]
  },
  {
   "cell_type": "markdown",
   "metadata": {},
   "source": [
    "#### Attributes and Class in Python\n",
    "\n",
    "- Class — In Python, a class is blueprint of the object. To define a class, we use the keyword “class” following the class name and semicolon.\n",
    "- Object — It’s an instantiation of a class. The object instance contains real data or value\n",
    "    - ***obj1 = class_name()***\n",
    "---\n",
    "- Class constructor — to assign the values to the data members of the class when an object of the class is created, we use constructor. The __init__() method is called constructor method\n",
    "\n",
    "&ensp;&ensp;&ensp;&ensp; def __init__(self, parameters):\n",
    "\n",
    "&ensp;&ensp;&ensp;&ensp;&ensp; self.param1 = parameters\n",
    "\n",
    "---\n",
    "- Instance attributes refer to the attributes inside the constructor method. Class attributes refer to the attributes outside the constructor method\n",
    "- Method — It’s a function that is associated with an object, used to describe the behavior of the objects"
   ]
  },
  {
   "cell_type": "code",
   "execution_count": 27,
   "metadata": {},
   "outputs": [],
   "source": [
    "### Class implementation\n",
    "\n",
    "class cat:\n",
    "    def __init__(self, cat_name, cat_breed):\n",
    "        self.name = cat_name\n",
    "        self.age = cat_breed"
   ]
  },
  {
   "cell_type": "code",
   "execution_count": 28,
   "metadata": {},
   "outputs": [
    {
     "name": "stdout",
     "output_type": "stream",
     "text": [
      "Dictionary conversion: {'name': 'Steve', 'salary': 10000}\n"
     ]
    }
   ],
   "source": [
    "### Class attribute and Instance Attribute\n",
    "\n",
    "class emp:\n",
    "    x = 10      #### Class Attribute\n",
    "\n",
    "    def __init__(self):\n",
    "        self.name = 'Steve'\n",
    "        self.salary = 10000\n",
    "  \n",
    "    def display(self):\n",
    "        print(self.name)\n",
    "        print(self.salary)\n",
    "  \n",
    "obj_emp = emp()\n",
    "\n",
    "print(\"Dictionary conversion:\", vars(obj_emp))"
   ]
  },
  {
   "cell_type": "markdown",
   "metadata": {},
   "source": [
    "### Question 4: What is vars() Function in Python?\n",
    "\n",
    "This is an inbuilt function in Python. The vars() method takes only one parameter and that too is optional. It takes an object as a parameter which may be can a module, a class, an instance, or any object having __dict__ attribute.\n",
    "\n",
    "The method returns the __dict__ attribute for a module, class, instance, or any other object if the same has a __dict__ attribute."
   ]
  },
  {
   "cell_type": "code",
   "execution_count": null,
   "metadata": {},
   "outputs": [],
   "source": []
  },
  {
   "cell_type": "code",
   "execution_count": null,
   "metadata": {},
   "outputs": [],
   "source": []
  }
 ],
 "metadata": {
  "interpreter": {
   "hash": "d26db0583b8d86dff58934c3f0443a821e6254989a7bf836030ed14e58471b87"
  },
  "kernelspec": {
   "display_name": "Python 3.9.7 64-bit ('base': conda)",
   "language": "python",
   "name": "python3"
  },
  "language_info": {
   "codemirror_mode": {
    "name": "ipython",
    "version": 3
   },
   "file_extension": ".py",
   "mimetype": "text/x-python",
   "name": "python",
   "nbconvert_exporter": "python",
   "pygments_lexer": "ipython3",
   "version": "3.9.7"
  },
  "orig_nbformat": 4
 },
 "nbformat": 4,
 "nbformat_minor": 2
}
