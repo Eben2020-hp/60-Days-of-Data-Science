{
 "cells": [
  {
   "cell_type": "markdown",
   "metadata": {},
   "source": [
    "## Day 1 : Python Basics with Implementation"
   ]
  },
  {
   "cell_type": "markdown",
   "metadata": {},
   "source": [
    "**REFERENCE:** https://medium.datadriveninvestor.com/60-days-of-data-science-and-machine-learning-series-day-1-a62ce3c7aac1"
   ]
  },
  {
   "cell_type": "markdown",
   "metadata": {},
   "source": [
    "### Python Data Types\n",
    "Data Types represent the kind of value variables can hold and what all operations can be performed on a particular data.\n",
    "\n",
    "<p style=\"text-align:center;\">\n",
    "<img src='https://miro.medium.com/max/700/1*b04njWshEqMdukMtP0RZIA.png'>\n",
    "</p>"
   ]
  },
  {
   "cell_type": "markdown",
   "metadata": {},
   "source": [
    "#### IMPLEMENTATION"
   ]
  },
  {
   "cell_type": "code",
   "execution_count": 1,
   "metadata": {},
   "outputs": [
    {
     "name": "stdout",
     "output_type": "stream",
     "text": [
      "3\n",
      "<class 'int'>\n"
     ]
    }
   ],
   "source": [
    "### Integer Data Type\n",
    "v1 = 3\n",
    "print(v1)\n",
    "print(type(v1))"
   ]
  },
  {
   "cell_type": "code",
   "execution_count": 2,
   "metadata": {},
   "outputs": [
    {
     "name": "stdout",
     "output_type": "stream",
     "text": [
      "3.14\n",
      "<class 'float'>\n"
     ]
    }
   ],
   "source": [
    "### Float Data Type\n",
    "v2 = 3.14\n",
    "print(v2)\n",
    "print(type(v2))"
   ]
  },
  {
   "cell_type": "code",
   "execution_count": 3,
   "metadata": {},
   "outputs": [
    {
     "name": "stdout",
     "output_type": "stream",
     "text": [
      "(3+4j)\n",
      "<class 'complex'>\n"
     ]
    }
   ],
   "source": [
    "### Complex Number Data Type\n",
    "v3 = 3+4j                   ## Here j is imaginary number. In Mathematics, it is i.\n",
    "print(v3)\n",
    "print(type(v3))"
   ]
  },
  {
   "cell_type": "code",
   "execution_count": 4,
   "metadata": {},
   "outputs": [
    {
     "name": "stdout",
     "output_type": "stream",
     "text": [
      "Hello World\n",
      "<class 'str'>\n"
     ]
    }
   ],
   "source": [
    "### String Data Type\n",
    "v4 = \"Hello World\"\n",
    "print(v4)\n",
    "print(type(v4))"
   ]
  },
  {
   "cell_type": "code",
   "execution_count": 5,
   "metadata": {},
   "outputs": [
    {
     "name": "stdout",
     "output_type": "stream",
     "text": [
      "True\n",
      "<class 'bool'>\n"
     ]
    }
   ],
   "source": [
    "### Boolean Data Type\n",
    "v5 = True\n",
    "print(v5)\n",
    "print(type(v5))"
   ]
  },
  {
   "cell_type": "code",
   "execution_count": 6,
   "metadata": {},
   "outputs": [
    {
     "name": "stdout",
     "output_type": "stream",
     "text": [
      "[1, 2, 3, 4, 5, 'Hello', True]\n",
      "<class 'list'>\n"
     ]
    }
   ],
   "source": [
    "### List Data Type\n",
    "v6 = [1,2,3,4,5, \"Hello\", True]\n",
    "print(v6)\n",
    "print(type(v6))"
   ]
  },
  {
   "cell_type": "code",
   "execution_count": 7,
   "metadata": {},
   "outputs": [
    {
     "name": "stdout",
     "output_type": "stream",
     "text": [
      "(1, 2, 3, 4, 'Hello')\n",
      "<class 'tuple'>\n"
     ]
    }
   ],
   "source": [
    "### Tuple Data Type\n",
    "v7 = (1,2,3,4,'Hello')\n",
    "print(v7)\n",
    "print(type(v7))"
   ]
  },
  {
   "cell_type": "markdown",
   "metadata": {},
   "source": [
    "#### Question 1: Difference between a list and a tuple.\n",
    "The key difference between the tuples and lists is that while the **tuples are immutable objects** the **lists are mutable**. This means that tuples cannot be changed while the lists can be modified.\n",
    "\n",
    "As lists are mutable, Python needs to allocate an extra memory block in case there is a need to extend the size of the list object after it is created. In contrary, as tuples are immutable and fixed size, Python allocates just the minimum memory block required for the data.\n",
    "- As a result, tuples are more memory efficient than the lists.\n",
    "\n",
    "**REFERENCE:** https://towardsdatascience.com/python-tuples-when-to-use-them-over-lists-75e443f9dcd7"
   ]
  },
  {
   "cell_type": "code",
   "execution_count": 8,
   "metadata": {},
   "outputs": [
    {
     "name": "stdout",
     "output_type": "stream",
     "text": [
      "{'Name': 'John', 'Age': 23}\n",
      "<class 'dict'>\n"
     ]
    }
   ],
   "source": [
    "### Dictionary Data Type\n",
    "v8 = {'Name':'John', 'Age':23}\n",
    "print(v8)\n",
    "print(type(v8))"
   ]
  },
  {
   "cell_type": "code",
   "execution_count": 9,
   "metadata": {},
   "outputs": [
    {
     "name": "stdout",
     "output_type": "stream",
     "text": [
      "{1, 2, 3, 4, 5, 6, 7, 8, 9, 10}\n",
      "<class 'set'>\n",
      "{1, 2, 3, 4, 5, 6, 7, 8, 9}\n",
      "<class 'set'>\n"
     ]
    }
   ],
   "source": [
    "### Set Data Type\n",
    "v9 = {1,2,3,4,5,6,7,8,9,10}             # There are No Duplicates in Set.\n",
    "print(v9)\n",
    "print(type(v9))\n",
    "\n",
    "v10 = {1,2,3,4,5,6,7,8,9,1, 2, 3, 4, 5, 6, 7, 8, 9}             # There are Duplicates in Set.\n",
    "print(v10)\n",
    "print(type(v10))"
   ]
  },
  {
   "cell_type": "markdown",
   "metadata": {},
   "source": [
    "#### Question 2: Difference between a Dictionary and a Set.\n",
    "<div class=\"table-responsive\"><table class=\"table table-bordered\">\n",
    "<thead>\n",
    "<tr>\n",
    "<td>\n",
    "<h3><strong>Parameters </strong></h3>\n",
    "</td>\n",
    "<td>\n",
    "<h3><strong>Set </strong></h3>\n",
    "</td>\n",
    "<td>\n",
    "<h3><strong>Dictionary </strong></h3>\n",
    "</td>\n",
    "</tr>\n",
    "<tr>\n",
    "<td>\n",
    "<p>Basics</p>\n",
    "</td>\n",
    "<td>\n",
    "<p>The sets are an unordered collection of data types. These are mutable, iterable, and do not consist of any duplicate elements.</p>\n",
    "</td>\n",
    "<td>\n",
    "<p>In Python, the dictionary refers to a collection (unordered) of various data types. We use these for storing data values such as maps, and unlike other data types capable of holding only one value in the form of an element, a dictionary can hold the key: value pair.</p>\n",
    "</td>\n",
    "</tr>\n",
    "<tr>\n",
    "<td>\n",
    "<p>Homogeneity</p>\n",
    "</td>\n",
    "<td>\n",
    "<p>A set also refers to a data structure of the non-homogenous type, but it stores various elements in a single row.</p>\n",
    "</td>\n",
    "<td>\n",
    "<p>A dictionary also refers to a data structure of the non-homogenous type that functions to store key-value pairs.</p>\n",
    "</td>\n",
    "</tr>\n",
    "<tr>\n",
    "<td>\n",
    "<p>Representation</p>\n",
    "</td>\n",
    "<td>\n",
    "<p>We can represent a Set by { }</p>\n",
    "</td>\n",
    "<td>\n",
    "<p>We can represent a Dictionary by { }</p>\n",
    "</td>\n",
    "</tr>\n",
    "<tr>\n",
    "<td>\n",
    "<p>Duplicate elements</p>\n",
    "</td>\n",
    "<td>\n",
    "<p>It does not allow any duplicate elements.</p>\n",
    "</td>\n",
    "<td>\n",
    "<p>The keys are not at all duplicated.</p>\n",
    "</td>\n",
    "</tr>\n",
    "<tr>\n",
    "<td>\n",
    "<p>Nested Among All</p>\n",
    "</td>\n",
    "<td>\n",
    "<p>It can be utilized in a Set.</p>\n",
    "</td>\n",
    "<td>\n",
    "<p>It can be utilized in a Dictionary.</p>\n",
    "</td>\n",
    "</tr>\n",
    "<tr>\n",
    "<td>\n",
    "<p>Function for Creation</p>\n",
    "</td>\n",
    "<td>\n",
    "<p>We can create a set using the <strong>set()</strong> function.</p>\n",
    "</td>\n",
    "<td>\n",
    "<p>We can create a dictionary using the <strong>dict()</strong> function.</p>\n",
    "</td>\n",
    "</tr>\n",
    "<tr>\n",
    "<td>\n",
    "<p>Mutation</p>\n",
    "</td>\n",
    "<td>\n",
    "<p>It is mutable. It means that a user can make any changes to a set.</p>\n",
    "</td>\n",
    "<td>\n",
    "<p>It is mutable, but the keys are not at all duplicated.</p>\n",
    "</td>\n",
    "</tr>\n",
    "<tr>\n",
    "<td>\n",
    "<p>Order</p>\n",
    "</td>\n",
    "<td>\n",
    "<p>It is unordered in nature.</p>\n",
    "</td>\n",
    "<td>\n",
    "<p>It is ordered in nature.</p>\n",
    "</td>\n",
    "</tr>\n",
    "<tr>\n",
    "<td>\n",
    "<p>Empty Elements</p>\n",
    "</td>\n",
    "<td>\n",
    "<p>If we want to create an empty set, we use:</p>\n",
    "<p>a=set()</p>\n",
    "<p>b=set(a)</p>\n",
    "</td>\n",
    "<td>\n",
    "<p>If we want to create an empty dictionary, we use:</p>\n",
    "<p>d={}</p>\n",
    "</td>\n",
    "</tr>\n",
    "</thead>\n",
    "</table></div>"
   ]
  },
  {
   "cell_type": "code",
   "execution_count": 10,
   "metadata": {},
   "outputs": [
    {
     "name": "stdout",
     "output_type": "stream",
     "text": [
      "frozenset({1, 2, 3, 4, 5, 6, 7, 8, 9, 10})\n",
      "<class 'frozenset'>\n"
     ]
    }
   ],
   "source": [
    "### Frozenset Data Type         --> It is immutable version of the Set Data Type.\n",
    "v11 = frozenset({1,2,3,4,5,6,7,8,9,10})             \n",
    "print(v11)\n",
    "print(type(v11))"
   ]
  },
  {
   "cell_type": "markdown",
   "metadata": {},
   "source": [
    "### Python Strings\n",
    "Strings in python are surrounded by either single quotation marks (' '), or double quotation marks (\" \").\n",
    "- You can assign a multiline string to a variable by using three quotes (''' ''').\n",
    "\n",
    "#### IMPLEMENTATION"
   ]
  },
  {
   "cell_type": "code",
   "execution_count": 11,
   "metadata": {},
   "outputs": [
    {
     "name": "stdout",
     "output_type": "stream",
     "text": [
      "Hello World\n",
      "Hello World\n",
      "This is a multiline string. \n",
      "        I am using triple quotes.\n",
      "        This is the third line.\n"
     ]
    }
   ],
   "source": [
    "### String\n",
    "s1 = 'Hello World'                                  # This is a Single Quoted String.\n",
    "s2 = \"Hello World\"                                  # This is a Double Quoted String.\n",
    "s3 = \"\"\"This is a multiline string. \n",
    "        I am using triple quotes.\n",
    "        This is the third line.\"\"\"\n",
    "\n",
    "print(s1)\n",
    "print(s2)\n",
    "print(s3)"
   ]
  },
  {
   "cell_type": "markdown",
   "metadata": {},
   "source": [
    "#### Indexing and Slicing with Strings\n",
    "\n",
    "**INDEXING**\n",
    "- In python, Indexing is used to access individual characters of a string\n",
    "- Square brackets ([]) are used to access the character of the string using Index\n",
    "- Index starts with 0\n",
    "\n",
    "**SLICING**\n",
    "- In python, Slicing is used to access a range of characters in the string\n",
    "- Slicing operator colon (:) is used"
   ]
  },
  {
   "cell_type": "code",
   "execution_count": 12,
   "metadata": {},
   "outputs": [
    {
     "name": "stdout",
     "output_type": "stream",
     "text": [
      "H\n",
      "d\n"
     ]
    }
   ],
   "source": [
    "### Indexing \n",
    "s4 = \"Hello World\"\n",
    "print(s4[0])                                        # This will print the first character of the string.\n",
    "print(s4[-1])                                       # This will print the last character of the string."
   ]
  },
  {
   "cell_type": "code",
   "execution_count": 13,
   "metadata": {},
   "outputs": [
    {
     "name": "stdout",
     "output_type": "stream",
     "text": [
      "Hello\n",
      "Hello\n",
      " World\n"
     ]
    }
   ],
   "source": [
    "### Slicing\n",
    "s5 = \"Hello World\"\n",
    "print(s5[0:5])                                      # This will print the first 5 characters of the string.\n",
    "print(s5[:5])                                       # This will print the first 5 characters of the string.\n",
    "print(s5[5:])                                       # This will print all words from the 5th Character."
   ]
  },
  {
   "cell_type": "code",
   "execution_count": 14,
   "metadata": {},
   "outputs": [
    {
     "name": "stdout",
     "output_type": "stream",
     "text": [
      "Hlo\n"
     ]
    }
   ],
   "source": [
    "### Slicing: slice(start, stop, step)\n",
    "s6 = \"Hello World\"\n",
    "print(s6[0:5:2])                    # This will take all the values with step 2 in the given range 0 to 5                    "
   ]
  },
  {
   "cell_type": "code",
   "execution_count": 15,
   "metadata": {},
   "outputs": [
    {
     "name": "stdout",
     "output_type": "stream",
     "text": [
      "dlroW olleH\n"
     ]
    }
   ],
   "source": [
    "### Reverse\n",
    "s7 = \"Hello World\"\n",
    "print(s7[::-1])                             # This will print the string in reverse order."
   ]
  },
  {
   "cell_type": "markdown",
   "metadata": {},
   "source": [
    "#### String Methods\n",
    "\n",
    "- istitle() : Checks for Titlecased String\n",
    "- isupper() : returns if all characters are uppercase characters\n",
    "- join() : Returns a Concatenated String\n",
    "- ljust() : returns left-justified string of given width\n",
    "- lower() : returns lowercased string\n",
    "- lstrip() : Removes Leading Characters\n",
    "- maketrans() : returns a translation table\n",
    "- replace() : Replaces Substring Inside\n",
    "- rfind() : Returns the Highest Index of Substring\n",
    "- rjust() : returns right-justified string of given width\n",
    "- rstrip() : Removes Trailing Characters\n",
    "- split() : Splits String from Left\n",
    "- splitlines() : Splits String at Line Boundaries\n",
    "- startswith() : Checks if String Starts with the Specified String\n",
    "- strip() : Removes Both Leading and Trailing Characters\n",
    "- swapcase() : swap uppercase characters to lowercase; vice versa\n",
    "- title() : Returns a Title Cased String\n",
    "- translate() : returns mapped charactered string\n",
    "- upper() : returns uppercased string\n",
    "- zfill() : Returns a Copy of The String Padded With Zeros\n",
    "- capitalize() : Converts first character to Capital Letter\n",
    "- casefold() : converts to case folded strings\n",
    "- center(): Pads string with specified character\n",
    "- count() : returns occurrences of substring in string\n",
    "- encode() : returns encoded string of given string\n",
    "- endswith(): Checks if String Ends with the Specified Suffix\n",
    "- expandtabs() : Replaces Tab character With Spaces\n",
    "- find(): Returns the index of first occurrence of substring\n",
    "- format(): formats string into nicer output\n",
    "- format_map() : Formats the String Using Dictionary\n",
    "- index(): Returns Index of Substring\n",
    "- isalnum(): Checks Alphanumeric Character\n",
    "- isalpha() : Checks if All Characters are Alphabets\n",
    "- isdecimal() : Checks Decimal Characters\n",
    "- isdigit() : Checks Digit Characters\n",
    "- isidentifier() : Checks for Valid Identifier\n",
    "- islower() : Checks if all Alphabets in a String are Lowercase\n",
    "- isnumeric() : Checks Numeric Characters\n",
    "- isprintable() : Checks Printable Character\n",
    "- isspace() : Checks Whitespace Characters"
   ]
  },
  {
   "cell_type": "code",
   "execution_count": 16,
   "metadata": {},
   "outputs": [
    {
     "name": "stdout",
     "output_type": "stream",
     "text": [
      "Eben emmanuel\n"
     ]
    }
   ],
   "source": [
    "### capitalize() method : Returns a copy of the string with its first character capitalized and the rest lowercased\n",
    "s8 = \"eben emmanuel\"\n",
    "print(s8.capitalize())"
   ]
  },
  {
   "cell_type": "code",
   "execution_count": 17,
   "metadata": {},
   "outputs": [
    {
     "name": "stdout",
     "output_type": "stream",
     "text": [
      "This is a Demo\n",
      "   This is a Demo   \n",
      "*This is a Demo*\n"
     ]
    }
   ],
   "source": [
    "### centre(width[, fillchar])   : Returns the string centered in a string of length width\n",
    "s9 = \"This is a Demo\"\n",
    "print(s9)                           ## This will print the string.\n",
    "print(s9.center(20))                ## This will print the string in the center of the given width.\n",
    "print(s9.center(16, \"*\"))           ## This will print the string in the center of the given width with the given fill character."
   ]
  },
  {
   "cell_type": "markdown",
   "metadata": {},
   "source": [
    "The center() method will center align the string, using a specified character (space is default) as the fill character.\n",
    "\n",
    "**Syntax:** <em>string</em>.center(<em>length, character</em>)\n",
    "\n",
    "<h4>Parameter Values</h4>\n",
    "<table class=\"ws-table-all notranslate\"> \n",
    "  <tbody><tr>\n",
    "    <th style=\"width:20%\">Parameter</th>\n",
    "    <th>Description</th>\n",
    "  </tr>  \n",
    "    <tr>\n",
    "    <td><em>length</em></td>\n",
    "    <td>Required. The length of the returned string</td>\n",
    "    </tr>\n",
    "  <tr>\n",
    "    <td><em>character</em></td>\n",
    "    <td>Optional. The character to fill the missing space on each side. Default \n",
    "    is \" \" (space)</td>\n",
    "  </tr>\n",
    "</tbody></table>"
   ]
  },
  {
   "cell_type": "code",
   "execution_count": 18,
   "metadata": {},
   "outputs": [
    {
     "name": "stdout",
     "output_type": "stream",
     "text": [
      "hello world\n"
     ]
    }
   ],
   "source": [
    "### casefold() method : Returns a casefolded copy of the string. Casefolded strings may be used for caseless matching\n",
    "s10 = \"Hello World\"\n",
    "print(s10.casefold())"
   ]
  },
  {
   "cell_type": "markdown",
   "metadata": {},
   "source": [
    "#### Question 3: Is casefold() the same as lower()?\n",
    "\n",
    "Casefolding is a more aggressive version of lower() that is set up to make many of the more unique unicode characters more comparable. It is another form of normalizing text that may initially appear to be very different, but it takes characters of many different languages into account.\n",
    "\n",
    "If you are working strictly in the English language, lower() and casefold() should be yielding exactly the same results. However, if you are trying to normalize text from other languages that use more than our simple 26-letter alphabet (using only ASCII), use casefold() to compare your strings, as it will yield more consistent results."
   ]
  },
  {
   "cell_type": "markdown",
   "metadata": {},
   "source": [
    "> ##### Consider the following example (from the Python documentation):"
   ]
  },
  {
   "cell_type": "code",
   "execution_count": 19,
   "metadata": {},
   "outputs": [
    {
     "name": "stdout",
     "output_type": "stream",
     "text": [
      "The strings are equal\n"
     ]
    }
   ],
   "source": [
    "## For English Language\n",
    "string1 = 'Hello'\n",
    "string2 = 'hello'\n",
    "\n",
    "if string1.lower() == string1.casefold():\n",
    "    print(\"The strings are equal\")\n",
    "else:\n",
    "    print(\"The strings are not equal\")"
   ]
  },
  {
   "cell_type": "code",
   "execution_count": 20,
   "metadata": {},
   "outputs": [
    {
     "name": "stdout",
     "output_type": "stream",
     "text": [
      "The strings are not equal\n",
      "Using .casefold():  ss\n",
      "Using .lower():  ß\n"
     ]
    }
   ],
   "source": [
    "## For Non-English Language\n",
    "string1 = 'ß'\n",
    "\n",
    "if string1.casefold() == string1.lower():\n",
    "    print(\"The strings are equal\")\n",
    "else:\n",
    "    print(\"The strings are not equal\")\n",
    "    print('Using .casefold(): ',string1.casefold())\n",
    "    print('Using .lower(): ',string1.lower())"
   ]
  },
  {
   "cell_type": "code",
   "execution_count": 21,
   "metadata": {},
   "outputs": [
    {
     "name": "stdout",
     "output_type": "stream",
     "text": [
      "3\n",
      "2\n"
     ]
    }
   ],
   "source": [
    "### count(sub[, start[, end]]) : Returns the number of non-overlapping occurrences of a substring (sub) in the range [start, end]\n",
    "s11 = \"Hello World\"\n",
    "print(s11.count('l'))\n",
    "print(s11.count('l', 0, 5))         ## This will count the number of 'l' in the given range."
   ]
  },
  {
   "cell_type": "markdown",
   "metadata": {},
   "source": [
    "- Here we can see that in the range of 0 to 5 the string will be \"Hello \". So in that range there are only 2 'l's."
   ]
  },
  {
   "cell_type": "code",
   "execution_count": 22,
   "metadata": {},
   "outputs": [
    {
     "name": "stdout",
     "output_type": "stream",
     "text": [
      "True\n",
      "False\n"
     ]
    }
   ],
   "source": [
    "### endswith(suffix[, start[, end]]) : Returns True if the string ends with the specified suffix, otherwise it returns False\n",
    "s12 = \"Hello World\"\n",
    "print(s12.endswith('d'))\n",
    "print(s12.endswith('d', 0, 5))      ## This will check if the string ends with the given suffix in the specidied range."
   ]
  },
  {
   "cell_type": "markdown",
   "metadata": {},
   "source": [
    "- As it can be noted that the string is definitely ending with \"d\" but for the range of 0 to 5 it doesn't, thats why we get **False**."
   ]
  },
  {
   "cell_type": "code",
   "execution_count": 23,
   "metadata": {},
   "outputs": [
    {
     "name": "stdout",
     "output_type": "stream",
     "text": [
      "2\n",
      "4\n"
     ]
    }
   ],
   "source": [
    "### find(sub[, start[, end]]) : Returns the lowest index in the string where substring (sub) is found within the slice s[start:end]\n",
    "s13 = \"Hello World\"\n",
    "print(s13.find('l'))\n",
    "print(s13.find('o', 0, 5))          ## This will find the first 'o' in the given range."
   ]
  },
  {
   "cell_type": "markdown",
   "metadata": {},
   "source": [
    "- If the substring is not there in the string then it will return **-1**."
   ]
  },
  {
   "cell_type": "code",
   "execution_count": 24,
   "metadata": {},
   "outputs": [
    {
     "name": "stdout",
     "output_type": "stream",
     "text": [
      "-1\n",
      "-1\n"
     ]
    }
   ],
   "source": [
    "print(s13.find('W', 0, 5))\n",
    "print(s13.find('r', 0, 5))"
   ]
  },
  {
   "cell_type": "code",
   "execution_count": 25,
   "metadata": {},
   "outputs": [
    {
     "name": "stdout",
     "output_type": "stream",
     "text": [
      "2\n",
      "4\n"
     ]
    },
    {
     "ename": "ValueError",
     "evalue": "substring not found",
     "output_type": "error",
     "traceback": [
      "\u001b[0;31m---------------------------------------------------------------------------\u001b[0m",
      "\u001b[0;31mValueError\u001b[0m                                Traceback (most recent call last)",
      "\u001b[0;32m/var/folders/k3/yy8qff1s4sj0k71g9rcc339w8gvs2x/T/ipykernel_33609/4028411250.py\u001b[0m in \u001b[0;36m<module>\u001b[0;34m\u001b[0m\n\u001b[1;32m      4\u001b[0m \u001b[0mprint\u001b[0m\u001b[0;34m(\u001b[0m\u001b[0ms14\u001b[0m\u001b[0;34m.\u001b[0m\u001b[0mindex\u001b[0m\u001b[0;34m(\u001b[0m\u001b[0;34m'o'\u001b[0m\u001b[0;34m,\u001b[0m \u001b[0;36m0\u001b[0m\u001b[0;34m,\u001b[0m \u001b[0;36m5\u001b[0m\u001b[0;34m)\u001b[0m\u001b[0;34m)\u001b[0m         \u001b[0;31m## This will find the first 'o' in the given range.\u001b[0m\u001b[0;34m\u001b[0m\u001b[0;34m\u001b[0m\u001b[0m\n\u001b[1;32m      5\u001b[0m \u001b[0;34m\u001b[0m\u001b[0m\n\u001b[0;32m----> 6\u001b[0;31m \u001b[0mprint\u001b[0m\u001b[0;34m(\u001b[0m\u001b[0ms14\u001b[0m\u001b[0;34m.\u001b[0m\u001b[0mindex\u001b[0m\u001b[0;34m(\u001b[0m\u001b[0;34m'W'\u001b[0m\u001b[0;34m,\u001b[0m \u001b[0;36m0\u001b[0m\u001b[0;34m,\u001b[0m \u001b[0;36m5\u001b[0m\u001b[0;34m)\u001b[0m\u001b[0;34m)\u001b[0m            \u001b[0;31m## This will raise an error.\u001b[0m\u001b[0;34m\u001b[0m\u001b[0;34m\u001b[0m\u001b[0m\n\u001b[0m",
      "\u001b[0;31mValueError\u001b[0m: substring not found"
     ]
    }
   ],
   "source": [
    "### index(sub[, start[, end]]) : Similar to find function, except that it raises a ValueError when the substring is not found\n",
    "s14 = \"Hello World\"\n",
    "print(s14.index('l'))\n",
    "print(s14.index('o', 0, 5))         ## This will find the first 'o' in the given range.\n",
    "\n",
    "print(s14.index('W', 0, 5))            ## This will raise an error."
   ]
  },
  {
   "cell_type": "code",
   "execution_count": 26,
   "metadata": {},
   "outputs": [
    {
     "name": "stdout",
     "output_type": "stream",
     "text": [
      "False\n",
      "True\n"
     ]
    }
   ],
   "source": [
    "### isalnum() : Returns True if all characters in the string are alphanumeric, else returns False\n",
    "s15 = \"Hello World\"\n",
    "s16 = \"2020\"\n",
    "\n",
    "print(s15.isalnum())\n",
    "print(s16.isalnum())"
   ]
  },
  {
   "cell_type": "code",
   "execution_count": 27,
   "metadata": {},
   "outputs": [
    {
     "name": "stdout",
     "output_type": "stream",
     "text": [
      "True\n",
      "False\n",
      "False\n"
     ]
    }
   ],
   "source": [
    "### isalpha() : Returns True if all characters in the string are alphabetic, else returns False\n",
    "s17 = \"EbenEmmanuel\"\n",
    "s18 = \"Eben Emmanuel\"\n",
    "s19 = \"2020\"\n",
    "\n",
    "print(s17.isalpha())            ## This will return True.\n",
    "print(s18.isalpha())            ## This will return False as there is a space.\n",
    "print(s19.isalpha())            ## This will return False as this is an AlphaNumeric."
   ]
  },
  {
   "cell_type": "code",
   "execution_count": 28,
   "metadata": {},
   "outputs": [
    {
     "name": "stdout",
     "output_type": "stream",
     "text": [
      "True\n",
      "True\n"
     ]
    }
   ],
   "source": [
    "### isdecimal() : Returns True if all characters in the string are decimal characters, else returns False\n",
    "s20 = \"2020\"\n",
    "s21 = \"\\u0030\" #unicode for 0\n",
    "\n",
    "print(s20.isdecimal())\n",
    "print(s21.isdecimal())"
   ]
  },
  {
   "cell_type": "markdown",
   "metadata": {},
   "source": [
    "- if the string is \"10.5\" then .sidecimal() wil return **False**, as the '.' there will not be identified as a decimal character."
   ]
  },
  {
   "cell_type": "code",
   "execution_count": 29,
   "metadata": {},
   "outputs": [
    {
     "name": "stdout",
     "output_type": "stream",
     "text": [
      "False\n",
      "True\n"
     ]
    }
   ],
   "source": [
    "s22 = \"10.5\"\n",
    "\n",
    "print(s22.isdecimal())              ## This will return False. As here we are taking the whole string.\n",
    "print(s22[0:2].isdecimal())         ## This will return True. As here we are taking the first 2 characters (which is 10)."
   ]
  },
  {
   "cell_type": "code",
   "execution_count": 30,
   "metadata": {},
   "outputs": [
    {
     "name": "stdout",
     "output_type": "stream",
     "text": [
      "True\n",
      "False\n"
     ]
    }
   ],
   "source": [
    "### isdigit() : Returns True if all characters in the string are digits, else returns False\n",
    "s23 = \"2020\"\n",
    "s24 = \"10.5\"\n",
    "\n",
    "print(s23.isdigit())\n",
    "print(s24.isdigit())"
   ]
  },
  {
   "cell_type": "code",
   "execution_count": 31,
   "metadata": {},
   "outputs": [
    {
     "name": "stdout",
     "output_type": "stream",
     "text": [
      "W,o,r,l,d\n"
     ]
    }
   ],
   "source": [
    "### join(iterable) : Returns a string which is the concatenation of #the strings in iterable. \n",
    "                    ## A TypeError will be raised if there are any non-string values in iterable\n",
    "s25 = \",\"\n",
    "s26 = \"World\"\n",
    "\n",
    "print(s25.join(s26))        "
   ]
  },
  {
   "cell_type": "markdown",
   "metadata": {},
   "source": [
    "- Here s26 (World) acts as a sequence. So when performing the .join() function we will get a seperator between the letters."
   ]
  },
  {
   "cell_type": "code",
   "execution_count": 32,
   "metadata": {},
   "outputs": [
    {
     "name": "stdout",
     "output_type": "stream",
     "text": [
      "('eben.emmauel', '@', 'cs.christuniversity.in')\n",
      "('eben', '.', 'emmauel@cs.christuniversity.in')\n"
     ]
    }
   ],
   "source": [
    "### partition(sep) : Splits the string at the first occurrence of sep\n",
    "#### returns a 3-tuple containing the part before the separator, the separator itself, and the part after the separator\n",
    "s27 = \"eben.emmauel@cs.christuniversity.in\"\n",
    "\n",
    "print(s27.partition(\"@\"))\n",
    "print(s27.partition(\".\"))"
   ]
  },
  {
   "cell_type": "code",
   "execution_count": 33,
   "metadata": {},
   "outputs": [
    {
     "name": "stdout",
     "output_type": "stream",
     "text": [
      "['eben', 'emmauel@cs', 'christuniversity', 'in']\n",
      "['eben', 'emmauel@cs', 'christuniversity.in']\n"
     ]
    }
   ],
   "source": [
    "### split(sep=None, maxsplit=-1) : Returns a list of the words in the #string,using sep as the delimiter strip.\n",
    "#### If maxsplit is given,atmost maxsplit splits are done. If maxsplit is not specified or -1, then there is no limit on the number of splits.\n",
    "s28 = \"eben.emmauel@cs.christuniversity.in\"\n",
    "\n",
    "print(s28.split('.'))                       ### No limit to the maximum number if splits\n",
    "print(s28.split('.', maxsplit= 2))          ### We have given a limit of 2."
   ]
  },
  {
   "cell_type": "code",
   "execution_count": 34,
   "metadata": {},
   "outputs": [
    {
     "name": "stdout",
     "output_type": "stream",
     "text": [
      "eben.emmauel@cs.christuniversity.in\n"
     ]
    }
   ],
   "source": [
    "### strip([chars]) : Returns a copy of the string with leading(beginning) and trailing(ending) characters removed. \n",
    "#### The chars argument is a string specifying the set of characters to be removed\n",
    "s29 = \"**eben.emmauel@cs.christuniversity.in**\"\n",
    "\n",
    "print(s29.strip('*')) "
   ]
  },
  {
   "cell_type": "code",
   "execution_count": 35,
   "metadata": {},
   "outputs": [
    {
     "name": "stdout",
     "output_type": "stream",
     "text": [
      "hI, mY nAME iS eBEN eMMANUEL.\n"
     ]
    }
   ],
   "source": [
    "### swapcase() : Returns a copy of the string with uppercase characters converted to lowercase and vice versa\n",
    "s30 = \"Hi, My Name Is Eben Emmanuel.\"\n",
    "\n",
    "print(s30.swapcase())"
   ]
  },
  {
   "cell_type": "code",
   "execution_count": 36,
   "metadata": {},
   "outputs": [
    {
     "name": "stdout",
     "output_type": "stream",
     "text": [
      "4\n",
      "001234\n",
      "6\n"
     ]
    }
   ],
   "source": [
    "# zfill(width) : Returns a copy of the string left filled with ASCII 0 digits to make a string of length width\n",
    "s31 = '1234'\n",
    "\n",
    "print(len(s31))                 ### Initial length is 4\n",
    "print(s31.zfill(6))             ### Increasing s31 to length 6 by adding 0's\n",
    "print(len(s31.zfill(6)))"
   ]
  },
  {
   "cell_type": "code",
   "execution_count": 37,
   "metadata": {},
   "outputs": [
    {
     "name": "stdout",
     "output_type": "stream",
     "text": [
      "Eben Emmanuel-----\n",
      "*****Eben Emmanuel-----\n"
     ]
    }
   ],
   "source": [
    "### lstrip([chars]) : Return a copy of the string with leading characters removed from the left side.\n",
    "#### The chars argument is a string specifying the set of characters to be removed.\n",
    "s32 = \"*****Eben Emmanuel-----\"\n",
    "\n",
    "print(s32.lstrip(\"*\"))              ## This will work\n",
    "print(s32.lstrip(\"-\"))              ## This won't work"
   ]
  },
  {
   "cell_type": "code",
   "execution_count": 38,
   "metadata": {},
   "outputs": [
    {
     "name": "stdout",
     "output_type": "stream",
     "text": [
      "27\n",
      "1\n",
      "-1\n"
     ]
    }
   ],
   "source": [
    "### rfind(value[, start[, end]]) : finds the last occurrence of the specified value. \n",
    "s33 = \"Hey, my name is Eben Emmanuel\"\n",
    "\n",
    "print(s33.rfind(\"e\"))\n",
    "print(s33.rfind(\"e\", 0, 5))        ### takes the specific range\n",
    "print(s33.rfind(\"z\"))              ### returns -1 if the value is not found."
   ]
  },
  {
   "cell_type": "code",
   "execution_count": 39,
   "metadata": {},
   "outputs": [
    {
     "name": "stdout",
     "output_type": "stream",
     "text": [
      "27\n",
      "1\n"
     ]
    },
    {
     "ename": "ValueError",
     "evalue": "substring not found",
     "output_type": "error",
     "traceback": [
      "\u001b[0;31m---------------------------------------------------------------------------\u001b[0m",
      "\u001b[0;31mValueError\u001b[0m                                Traceback (most recent call last)",
      "\u001b[0;32m/var/folders/k3/yy8qff1s4sj0k71g9rcc339w8gvs2x/T/ipykernel_33609/2115260391.py\u001b[0m in \u001b[0;36m<module>\u001b[0;34m\u001b[0m\n\u001b[1;32m      4\u001b[0m \u001b[0mprint\u001b[0m\u001b[0;34m(\u001b[0m\u001b[0ms34\u001b[0m\u001b[0;34m.\u001b[0m\u001b[0mrindex\u001b[0m\u001b[0;34m(\u001b[0m\u001b[0;34m\"e\"\u001b[0m\u001b[0;34m)\u001b[0m\u001b[0;34m)\u001b[0m\u001b[0;34m\u001b[0m\u001b[0;34m\u001b[0m\u001b[0m\n\u001b[1;32m      5\u001b[0m \u001b[0mprint\u001b[0m\u001b[0;34m(\u001b[0m\u001b[0ms34\u001b[0m\u001b[0;34m.\u001b[0m\u001b[0mrindex\u001b[0m\u001b[0;34m(\u001b[0m\u001b[0;34m\"e\"\u001b[0m\u001b[0;34m,\u001b[0m \u001b[0;36m0\u001b[0m\u001b[0;34m,\u001b[0m \u001b[0;36m5\u001b[0m\u001b[0;34m)\u001b[0m\u001b[0;34m)\u001b[0m        \u001b[0;31m### takes the specific range\u001b[0m\u001b[0;34m\u001b[0m\u001b[0;34m\u001b[0m\u001b[0m\n\u001b[0;32m----> 6\u001b[0;31m \u001b[0mprint\u001b[0m\u001b[0;34m(\u001b[0m\u001b[0ms34\u001b[0m\u001b[0;34m.\u001b[0m\u001b[0mrindex\u001b[0m\u001b[0;34m(\u001b[0m\u001b[0;34m\"z\"\u001b[0m\u001b[0;34m)\u001b[0m\u001b[0;34m)\u001b[0m              \u001b[0;31m### returns -1 if the value is not found.\u001b[0m\u001b[0;34m\u001b[0m\u001b[0;34m\u001b[0m\u001b[0m\n\u001b[0m",
      "\u001b[0;31mValueError\u001b[0m: substring not found"
     ]
    }
   ],
   "source": [
    "### rindex(sub[, start[, end]]) : Just like rfind() but raises ValueError when the substring sub is not found\n",
    "s34 = \"Hey, my name is Eben Emmanuel\"\n",
    "\n",
    "print(s34.rindex(\"e\"))\n",
    "print(s34.rindex(\"e\", 0, 5))        ### takes the specific range\n",
    "print(s34.rindex(\"z\"))              ### returns -1 if the value is not found."
   ]
  },
  {
   "cell_type": "markdown",
   "metadata": {},
   "source": [
    "> <strong>NOTE:</strong>\n",
    "> - The main difference between find(), index(), rfind() and rindex() is that, find() and index() returns the first index where the substring occurred.\n",
    "But rfind() and rindex() returns the last index value."
   ]
  },
  {
   "cell_type": "markdown",
   "metadata": {},
   "source": [
    "#### Python F-strings\n",
    "\n",
    "- Python F-Strings are used to embed python expressions inside string literals for formatting, using minimal syntax.\n",
    "- It’s an expression that’s evaluated at the run time.\n",
    "- They have the f prefix and use {} brackets to evaluate values.\n",
    "    - <b>example: f\"Hi, my name is {name} and I am {age} years old\"</b>\n",
    "- f-strings are faster than %-formatting and str.format()\n"
   ]
  },
  {
   "cell_type": "code",
   "execution_count": 40,
   "metadata": {},
   "outputs": [
    {
     "name": "stdout",
     "output_type": "stream",
     "text": [
      "The Greatest of 12 and 25 is: 25\n"
     ]
    }
   ],
   "source": [
    "### Creating a function that return the greatest number among 2 numbers.\n",
    "def highest_number(x,y):\n",
    "    return x if x>y else y\n",
    "\n",
    "first_num = 12\n",
    "second_num = 25\n",
    "\n",
    "print(f'The Greatest of {first_num} and {second_num} is: {max(first_num,second_num)}')"
   ]
  },
  {
   "cell_type": "markdown",
   "metadata": {},
   "source": [
    "### Operators in Python\n",
    "In python, operators are used to perform operations on variables and values.\n",
    "\n",
    "| Operators | Symbols |\n",
    "| --- | --- |\n",
    "| Arithmetic Operators | +, — , *, /, //, %, ** |\n",
    "| Logical Operators | and, or, not |\n",
    "| Identity Operators | is, is not |\n",
    "| Membership Operators | in , not in |\n",
    "| Bitwise Operators | &, |, ^,~, << , >> |\n",
    "| Assignment Operators | =, +=, -=, *=,/= , %=, //=, **=, &=, |=, ^=, >>=, <<= |\n",
    "| Comparison Operators | ==, !=, > , <, >=, <= |\n",
    "\n",
    "- Ternary Operators are operators that evaluate things based on a condition being true or false\n",
    "- Operator overloading can be implemented in Python. Operator overloading in Python is the ability of a single operator to perform more than one operation based on the class (type) of operands. \n",
    "    - For example, the + operator can be used to add two numbers, concatenate two strings or merge two lists."
   ]
  },
  {
   "cell_type": "code",
   "execution_count": 41,
   "metadata": {},
   "outputs": [
    {
     "name": "stdout",
     "output_type": "stream",
     "text": [
      "Addition: 14\n",
      "Subtraction: 6\n",
      "Multiply:  40\n",
      "Division: 2.5\n",
      "Modulus: 2\n",
      "Floor Division: 2\n",
      "Exponent: 10000\n"
     ]
    }
   ],
   "source": [
    "### Arithmatic Operators\n",
    "\n",
    "x=10\n",
    "y=4\n",
    "\n",
    "#### Addition\n",
    "print(\"Addition:\",x+y)\n",
    "\n",
    "#### Subtraction\n",
    "print(\"Subtraction:\",x-y)\n",
    "\n",
    "#### Multiply\n",
    "print(\"Multiply: \",x*y)\n",
    "\n",
    "#### Division\n",
    "print(\"Division:\",x/y)\n",
    "\n",
    "#### Modulus    --> Returns the Remainder\n",
    "print(\"Modulus:\",x%y)\n",
    "\n",
    "#### Floor Division     --> Floor division is a normal division operation except that it returns the largest possible integer. \n",
    "                            # This integer is either less than or equal to the normal division result.\n",
    "print(\"Floor Division:\",x//y)\n",
    "\n",
    "#### Exponent\n",
    "print(\"Exponent:\",x**y)"
   ]
  },
  {
   "cell_type": "code",
   "execution_count": 42,
   "metadata": {},
   "outputs": [
    {
     "name": "stdout",
     "output_type": "stream",
     "text": [
      "Greater than: True\n",
      "Greater than: False\n",
      "Greater than equal to: True\n",
      "Less than: False\n",
      "Not equal to: True\n",
      "Equal to: False\n"
     ]
    }
   ],
   "source": [
    "### Comparison Operator  : Result is either True or False\n",
    "\n",
    "x=5\n",
    "y=3\n",
    "\n",
    "#### Greater than\n",
    "print(\"Greater than:\",x>y)\n",
    "\n",
    "#### Less than\n",
    "print(\"Greater than:\",x<y)\n",
    "\n",
    "#### Greater than equal to \n",
    "print(\"Greater than equal to:\",x>=y)\n",
    "\n",
    "#### less than equal to\n",
    "print(\"Less than:\",x<=y)\n",
    "\n",
    "#### Not equal to \n",
    "print(\"Not equal to:\",x!=y)\n",
    "\n",
    "#### Equal to\n",
    "print(\"Equal to:\",x==y)"
   ]
  },
  {
   "cell_type": "code",
   "execution_count": 43,
   "metadata": {},
   "outputs": [
    {
     "name": "stdout",
     "output_type": "stream",
     "text": [
      "And result: False\n",
      "Or result: True\n",
      "Not result: True\n"
     ]
    }
   ],
   "source": [
    "### Logical Operators : and, or, not [Result is either True or False]\n",
    "\n",
    "x= True\n",
    "y= False\n",
    "\n",
    "#### And\n",
    "print(\"And result:\",(x and y))\n",
    "\n",
    "#### Or\n",
    "print(\"Or result:\",(x or y))\n",
    "\n",
    "#### Not\n",
    "print(\"Not result:\",(not y))"
   ]
  },
  {
   "cell_type": "markdown",
   "metadata": {},
   "source": [
    "#### Question 4: Understanding Logical Operators\n",
    "\n",
    "Consider the expression: 6 > 4 and 2 <= 14. Then:\n",
    "- print(6 > 4)  --> Will yield True\n",
    "- print(2 <= 14)  --> Will yield True\n",
    "- print(6 > 4 and 2 <= 14)    --> Will yield True\n",
    "\n",
    "We can say this in English as: It is true that six is greater than four and that two is less than or equal to fourteen.\n",
    "\n",
    "\n",
    "The Common way to Understand Logical Operators is using Truth Tables:\n",
    "\n",
    "| x | y | x and y | x or y | not x (opposite of what x is) | not y (opposite of what y is) |\n",
    "| --- | --- | --- | --- | --- | --- |\n",
    "| True | True | True | True | False | False |\n",
    "| True | False | False | True | False | True |\n",
    "| False | False | False | False | True | True |\n",
    "| False | True | False | True | True | False |"
   ]
  },
  {
   "cell_type": "code",
   "execution_count": 44,
   "metadata": {},
   "outputs": [
    {
     "name": "stdout",
     "output_type": "stream",
     "text": [
      "And result: 992\n",
      "Or result: 1019\n",
      "Not result: -1011\n",
      "XOR result: 27\n",
      "Bitwise right shift result: 250\n",
      "Bitwise left shift result: 4004\n"
     ]
    }
   ],
   "source": [
    "### Bitwise operators   --> The integers are first converted into binary and then operations are performed on bit by bit.\n",
    "                            # Result is returned in decimal format.\n",
    "\n",
    "x = 1001\n",
    "y = 1010\n",
    "\n",
    "#### And    -> Returns 1 if both the bits are 1 else 0.\n",
    "print(\"And result:\",(x & y))        \n",
    "\n",
    "#### Or     -> Returns 1 if either of the bit is 1 else 0.\n",
    "print(\"Or result:\",(x | y))\n",
    "\n",
    "#### Not    -> Returns one’s complement of the number.\n",
    "print(\"Not result:\",(~y))\n",
    "\n",
    "#### Xor    -> Returns 1 if one of the bits is 1 and the other is 0 else returns 0.\n",
    "print(\"XOR result:\",(x^y))\n",
    "\n",
    "\n",
    "## Shift Operators : These operators are used to shift the bits of a number left or right.\n",
    "#### Bitwise right shift    -> Shifts the bits of the number to the right and fills 0 on voids left (fills 1 in the case of a negative number). \n",
    "print(\"Bitwise right shift result:\",(x>>2))\n",
    "\n",
    "#### Bitwise left shift     -> Shifts the bits of the number to the left and fills 0 on voids right as a result.\n",
    "print(\"Bitwise left shift result:\",(x<<2))"
   ]
  },
  {
   "cell_type": "markdown",
   "metadata": {},
   "source": [
    "> Refer: https://www.geeksforgeeks.org/python-bitwise-operators/ for more understanding."
   ]
  },
  {
   "cell_type": "code",
   "execution_count": 45,
   "metadata": {},
   "outputs": [
    {
     "name": "stdout",
     "output_type": "stream",
     "text": [
      "5\n",
      "10\n",
      "8\n",
      "16\n",
      "256\n"
     ]
    }
   ],
   "source": [
    "### Assignment operators : used in Python to assign values to variables\n",
    "\n",
    "x = 5\n",
    "print(x)\n",
    "\n",
    "x += 5      ## Same as x = x + 5\n",
    "print(x)\n",
    "\n",
    "x -= 2      ## Same as x = x - 2\n",
    "print(x)\n",
    "\n",
    "x *= 2      ## Same as x = x * 2\n",
    "print(x)\n",
    "\n",
    "x **= 2     ## Same as x = x ** 2\n",
    "print(x)"
   ]
  },
  {
   "cell_type": "code",
   "execution_count": 46,
   "metadata": {},
   "outputs": [
    {
     "name": "stdout",
     "output_type": "stream",
     "text": [
      "Is operator result: True\n",
      "Not is operator result: True\n"
     ]
    }
   ],
   "source": [
    "### Identity Operator : is and is not are the identity operators in Python. Returns Boolean Values\n",
    "\n",
    "x=5\n",
    "y=5\n",
    "\n",
    "z='a'\n",
    "\n",
    "print(\"Is operator result:\", (x is y))\n",
    "print(\"Not is operator result:\", (y is not z))"
   ]
  },
  {
   "cell_type": "code",
   "execution_count": 47,
   "metadata": {},
   "outputs": [
    {
     "name": "stdout",
     "output_type": "stream",
     "text": [
      "False\n",
      "True\n",
      "True\n"
     ]
    }
   ],
   "source": [
    "### Membership operator : in and not in operator. Returns Boolean Values\n",
    "\n",
    "x = 'Eben Emmanuel'\n",
    "\n",
    "print('y' in x)     #### Checks if y is there in x.\n",
    "print('a' in x)\n",
    "print('y' not in x)"
   ]
  },
  {
   "cell_type": "markdown",
   "metadata": {},
   "source": [
    "#### Chaining Comparison Operators with Logical Operators\n",
    "\n",
    "- In python, in order to check more than two conditions, we implement chaining where two or more operators are chained together (x<y<z).\n",
    "- In accordance with associativity and precedence in Python, all comparison operations have the same priority. Resultant values of Comparisons yield boolean values such as either True or False."
   ]
  },
  {
   "cell_type": "code",
   "execution_count": 48,
   "metadata": {},
   "outputs": [
    {
     "name": "stdout",
     "output_type": "stream",
     "text": [
      "False\n",
      "False\n"
     ]
    }
   ],
   "source": [
    "### Chaining Comparison operators with Logical operators --> Here it checks if all conditions are right. \n",
    "                                                            # If all is True then returns True, else False.\n",
    "\n",
    "a, b, c, d, e, f, g = 10, 15, 2, 1, 45, 25, 19\n",
    "\n",
    "e1 = a <= b < c > d < e is not f is g\n",
    "e2 = a is d < f is c\n",
    "\n",
    "print(e1)\n",
    "print(e2)"
   ]
  },
  {
   "cell_type": "code",
   "execution_count": null,
   "metadata": {},
   "outputs": [],
   "source": []
  },
  {
   "cell_type": "code",
   "execution_count": null,
   "metadata": {},
   "outputs": [],
   "source": []
  }
 ],
 "metadata": {
  "interpreter": {
   "hash": "d26db0583b8d86dff58934c3f0443a821e6254989a7bf836030ed14e58471b87"
  },
  "kernelspec": {
   "display_name": "Python 3.9.7 64-bit ('base': conda)",
   "language": "python",
   "name": "python3"
  },
  "language_info": {
   "codemirror_mode": {
    "name": "ipython",
    "version": 3
   },
   "file_extension": ".py",
   "mimetype": "text/x-python",
   "name": "python",
   "nbconvert_exporter": "python",
   "pygments_lexer": "ipython3",
   "version": "3.9.7"
  },
  "orig_nbformat": 4
 },
 "nbformat": 4,
 "nbformat_minor": 2
}
