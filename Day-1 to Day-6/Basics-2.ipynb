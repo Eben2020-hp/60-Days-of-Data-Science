{
 "cells": [
  {
   "cell_type": "markdown",
   "metadata": {},
   "source": [
    "## Day 2 : Python Basics with Implementation"
   ]
  },
  {
   "cell_type": "markdown",
   "metadata": {},
   "source": [
    "**REFERENCE:** https://medium.datadriveninvestor.com/day-2-60-days-of-data-science-and-machine-learning-series-5ef21f098454"
   ]
  },
  {
   "cell_type": "markdown",
   "metadata": {},
   "source": [
    "### Python Lists\n",
    "\n",
    "- One of the most versatile data type in Python, Lists are used to store multiple items ( homogeneous or non-homogeneous) in a single variable. Items can be of any Data Type.\n",
    "- Place the items inside the square brackets ([]).\n",
    "- Lists are defined as objects with the data type <‘list’>\n",
    "- Items are ordered, changeable, and allow duplicate values\n",
    "- The list() constructor can be used when creating a new list\n",
    "- Items inside list are indexed, the first item has index [0], the second item has index [1] etc....."
   ]
  },
  {
   "cell_type": "markdown",
   "metadata": {},
   "source": [
    "#### IMPLEMENTATION"
   ]
  },
  {
   "cell_type": "code",
   "execution_count": 1,
   "metadata": {},
   "outputs": [
    {
     "name": "stdout",
     "output_type": "stream",
     "text": [
      "['sunday', 'monday', 'tuesday', 'wednesday', 'thursday']\n"
     ]
    }
   ],
   "source": [
    "### Create a List\n",
    "\n",
    "list_one = [\"sunday\",\"monday\",\"tuesday\",\"wednesday\",\"thursday\"]\n",
    "print(list_one)"
   ]
  },
  {
   "cell_type": "code",
   "execution_count": 2,
   "metadata": {},
   "outputs": [
    {
     "name": "stdout",
     "output_type": "stream",
     "text": [
      "5\n"
     ]
    }
   ],
   "source": [
    "### List Length\n",
    "\n",
    "print(len(list_one))            #### There are 5 elements."
   ]
  },
  {
   "cell_type": "code",
   "execution_count": 3,
   "metadata": {},
   "outputs": [
    {
     "name": "stdout",
     "output_type": "stream",
     "text": [
      "['abc', 67, True, 3.14, 'female']\n"
     ]
    }
   ],
   "source": [
    "### List with different data types\n",
    "\n",
    "list_two = ['abc', 67, True, 3.14, \"female\"]            #### In this list we have [string, integer, boolean, float, string]\n",
    "print(list_two)"
   ]
  },
  {
   "cell_type": "code",
   "execution_count": 4,
   "metadata": {},
   "outputs": [
    {
     "name": "stdout",
     "output_type": "stream",
     "text": [
      "<class 'list'>\n"
     ]
    }
   ],
   "source": [
    "### type() with List\n",
    "\n",
    "print(type(list_two))"
   ]
  },
  {
   "cell_type": "code",
   "execution_count": 5,
   "metadata": {},
   "outputs": [
    {
     "name": "stdout",
     "output_type": "stream",
     "text": [
      "['hello', 'World', 'Beautiful', 'Day']\n"
     ]
    }
   ],
   "source": [
    "### list() constructor to make a List\n",
    "\n",
    "list_three = list((\"hello\", \"World\", \"Beautiful\", \"Day\"))\n",
    "print(list_three)"
   ]
  },
  {
   "cell_type": "code",
   "execution_count": 6,
   "metadata": {},
   "outputs": [
    {
     "name": "stdout",
     "output_type": "stream",
     "text": [
      "['hello', [8, 4, 6], ['World']]\n"
     ]
    }
   ],
   "source": [
    "### nested list (List inside a List)\n",
    "\n",
    "list_four= [\"hello\", [8, 4, 6], ['World']]\n",
    "print(list_four)"
   ]
  },
  {
   "cell_type": "code",
   "execution_count": 7,
   "metadata": {},
   "outputs": [
    {
     "name": "stdout",
     "output_type": "stream",
     "text": [
      "['monday', 'tuesday', 'wednesday']\n"
     ]
    }
   ],
   "source": [
    "### slice lists in Python : Use the slicing operator ():)\n",
    "\n",
    "list_five = [\"sunday\",\"monday\",\"tuesday\",\"wednesday\",\"thursday\"]\n",
    "print(list_five[1:4])\n"
   ]
  },
  {
   "cell_type": "code",
   "execution_count": 8,
   "metadata": {},
   "outputs": [
    {
     "name": "stdout",
     "output_type": "stream",
     "text": [
      "['sunday', 'monday', 'tuesday', 'friday', 'thursday']\n"
     ]
    }
   ],
   "source": [
    "### Add/Change List Elements : use the assignment operator = to change an item\n",
    "\n",
    "list_six = [\"sunday\",\"monday\",\"tuesday\",\"wednesday\",\"thursday\"]\n",
    "list_six[3] = 'friday'                #### We specify the index number where we want the new element. But it should be within the lenght of the list\n",
    "print(list_six)"
   ]
  },
  {
   "cell_type": "code",
   "execution_count": 9,
   "metadata": {},
   "outputs": [
    {
     "name": "stdout",
     "output_type": "stream",
     "text": [
      "['sunday', 'monday', 'tuesday', 'wednesday', 'thursday', 'friday']\n",
      "['sunday', 'monday', 'tuesday', 'wednesday', 'thursday', 'friday', 'saturday']\n"
     ]
    }
   ],
   "source": [
    "### Appending and Extending lists in Python : Use the append() or #extend() method\n",
    "\n",
    "## Append\n",
    "list_seven = [\"sunday\",\"monday\",\"tuesday\",\"wednesday\",\"thursday\"]\n",
    "list_seven.append('friday')\n",
    "print(list_seven)\n",
    "\n",
    "## Extend\n",
    "list_seven.extend(['saturday'])\n",
    "print(list_seven)"
   ]
  },
  {
   "cell_type": "markdown",
   "metadata": {},
   "source": [
    "### Question 1: What is the main difference between append() and extend()?\n",
    "\n",
    "A list is an object. If you append another list onto the first list, the second list will be a single object at the end of the first list. But if you extend then the extend() function Iterates over the second list and adding each element to the first list and extending the list. The length of the first list increases by number of elements in the second list. \n",
    "\n",
    "---\n",
    "**EXAMPLE:**\n",
    "\n",
    "my_list = ['geeks', 'for']\n",
    "\n",
    "another_list = [6, 0, 4, 1]\n",
    "\n",
    "- my_list.append(another_list) -->  ['geeks', 'for', [6, 0, 4, 1]]\n",
    "- my_list.extend(another_list) -->  ['geeks', 'for', 6, 0, 4, 1]\n",
    "\n",
    "---"
   ]
  },
  {
   "cell_type": "code",
   "execution_count": 10,
   "metadata": {},
   "outputs": [
    {
     "name": "stdout",
     "output_type": "stream",
     "text": [
      "['sunday', 'monday', 'tuesday', 'wednesday', 'thursday', 0, 1, 2, 3, 4]\n",
      "['sunday', 'monday', 'tuesday', 'wednesday', 'thursday', 'sunday', 'monday', 'tuesday', 'wednesday', 'thursday']\n"
     ]
    }
   ],
   "source": [
    "### Concatenating and repeat lists : use + operator to concate two lists and use * operator to repeat lists\n",
    "\n",
    "## Concatenate\n",
    "list_eight = [\"sunday\", \"monday\", \"tuesday\", \"wednesday\", \"thursday\"]\n",
    "print(list_eight + [0,1,2,3,4])\n",
    "\n",
    "## Repeat \n",
    "print(list_eight*2)     #### Repeating the List 2 times"
   ]
  },
  {
   "cell_type": "code",
   "execution_count": 11,
   "metadata": {},
   "outputs": [
    {
     "name": "stdout",
     "output_type": "stream",
     "text": [
      "Delete result: ['sunday', 'monday', 'wednesday', 'thursday']\n",
      "Remove result: ['sunday', 'monday', 'wednesday', 'thursday']\n",
      "Pop result: ['sunday', 'monday', 'wednesday', 'thursday']\n"
     ]
    }
   ],
   "source": [
    "### Delete List Elements : delete one or more items or entire list using the keyword del\n",
    "\n",
    "## Delete Method\n",
    "list_nine = [\"sunday\", \"monday\", \"tuesday\", \"wednesday\", \"thursday\"]\n",
    "del list_nine[2]\n",
    "print(\"Delete result:\", list_nine)\n",
    "\n",
    "\n",
    "\n",
    "\n",
    "### Remove/Pop List Elements : remove() or pop() method to remove an item at the given index location\n",
    "\n",
    "## Remove Method\n",
    "list_nine = [\"sunday\",\"monday\",\"tuesday\",\"wednesday\",\"thursday\"]\n",
    "list_nine.remove(\"tuesday\")\n",
    "print(\"Remove result:\", list_nine)\n",
    "\n",
    "## Pop method\n",
    "list_nine = [\"sunday\",\"monday\",\"tuesday\",\"wednesday\",\"thursday\"]\n",
    "list_nine.pop(2)\n",
    "print(\"Pop result:\", list_nine)"
   ]
  },
  {
   "cell_type": "code",
   "execution_count": 12,
   "metadata": {},
   "outputs": [
    {
     "name": "stdout",
     "output_type": "stream",
     "text": [
      "2\n"
     ]
    }
   ],
   "source": [
    "### index() method : Returns the index of the first matched item\n",
    "\n",
    "list_ten = [\"sunday\",\"monday\",\"tuesday\",\"wednesday\",\"thursday\"]\n",
    "print(list_ten.index(\"tuesday\"))"
   ]
  },
  {
   "cell_type": "code",
   "execution_count": 13,
   "metadata": {},
   "outputs": [
    {
     "name": "stdout",
     "output_type": "stream",
     "text": [
      "['monday', 'sunday', 'thursday', 'tuesday', 'wednesday']\n"
     ]
    }
   ],
   "source": [
    "### sort() method: Sort items in a list in ascending order\n",
    "\n",
    "list_eleven = [\"sunday\", \"monday\", \"tuesday\", \"wednesday\", \"thursday\"]\n",
    "list_eleven.sort()                              #### list_eleven.sort(reverse=True) for decending order\n",
    "print(list_eleven)"
   ]
  },
  {
   "cell_type": "code",
   "execution_count": 14,
   "metadata": {},
   "outputs": [
    {
     "name": "stdout",
     "output_type": "stream",
     "text": [
      "['thursday', 'wednesday', 'tuesday', 'monday', 'sunday']\n"
     ]
    }
   ],
   "source": [
    "### reverse() : Reverse the order of items in the list\n",
    "\n",
    "list_twelve = [\"sunday\",\"monday\",\"tuesday\",\"wednesday\",\"thursday\"]\n",
    "list_twelve.reverse()\n",
    "print(list_twelve)"
   ]
  },
  {
   "cell_type": "code",
   "execution_count": 15,
   "metadata": {},
   "outputs": [
    {
     "name": "stdout",
     "output_type": "stream",
     "text": [
      "['sunday', 'monday', 'tuesday', 'wednesday', 'thursday']\n"
     ]
    }
   ],
   "source": [
    "### copy(): Returns a shallow copy of the list\n",
    "\n",
    "copy_list = [\"sunday\",\"monday\",\"tuesday\",\"wednesday\",\"thursday\"]\n",
    "list_thirteen = copy_list.copy()                    ### or use --> list_thirteen = copy_list\n",
    "print(list_thirteen)"
   ]
  },
  {
   "cell_type": "code",
   "execution_count": 16,
   "metadata": {},
   "outputs": [
    {
     "name": "stdout",
     "output_type": "stream",
     "text": [
      "True\n"
     ]
    }
   ],
   "source": [
    "### Membership : check if an item exists in a list or not, using the keyword \"in\"\n",
    "\n",
    "list_fourteen = [\"sunday\",\"monday\",\"tuesday\",\"wednesday\",\"thursday\"]\n",
    "print('tuesday' in list_fourteen)"
   ]
  },
  {
   "cell_type": "code",
   "execution_count": 17,
   "metadata": {},
   "outputs": [
    {
     "name": "stdout",
     "output_type": "stream",
     "text": [
      "['sunday', 'monday', 'friday', 'tuesday', 'wednesday', 'thursday']\n"
     ]
    }
   ],
   "source": [
    "### insert() method : insert item at a desired location, just moves the item in that index to the next index\n",
    "\n",
    "list_fifteen = [\"sunday\",\"monday\",\"tuesday\",\"wednesday\",\"thursday\"]\n",
    "\n",
    "list_fifteen.insert(2, 'friday')          \n",
    "print(list_fifteen)"
   ]
  },
  {
   "cell_type": "markdown",
   "metadata": {},
   "source": [
    "#### List Comprehensions\n",
    "\n",
    "- In python, list comprehensions are used to create a new list based on the values of an existing list in the most elegant and shortest way.\n",
    "- List comprehension consists of an expression followed by <i>for statement</i> inside square ([]) brackets."
   ]
  },
  {
   "cell_type": "code",
   "execution_count": 18,
   "metadata": {},
   "outputs": [
    {
     "name": "stdout",
     "output_type": "stream",
     "text": [
      "[1, 2, 4, 8, 16, 32, 64, 128, 256, 512, 1024, 2048, 4096, 8192, 16384, 32768, 65536, 131072, 262144, 524288]\n"
     ]
    }
   ],
   "source": [
    "### Creating a List Comprehension\n",
    "\n",
    "list_sixteen = [2**x for x in range(20)]\n",
    "print(list_sixteen)"
   ]
  },
  {
   "cell_type": "markdown",
   "metadata": {},
   "source": [
    "> First define the Function we want to perform, then specify from where we want to take the values."
   ]
  },
  {
   "cell_type": "markdown",
   "metadata": {},
   "source": [
    "### Python Dictionaries\n",
    "\n",
    "- In python, dictionary is an unordered collection of data values in which data values are stored in **key:value** pairs.\n",
    "- Created by placing sequence of elements within curly {} braces, separated by ‘ , ‘.\n",
    "- ***Values can be of any datatype and can be duplicated, whereas keys are immutable and can’t be repeated.***\n",
    "- Can be created by the built-in function dict().\n",
    "- Dictionaries are defined as objects with the data type ‘dict'.\n",
    "- To access values in dict, use the keys.\n",
    "- Key Value format makes dictionary one of the most optimized and efficient data type in Python."
   ]
  },
  {
   "cell_type": "code",
   "execution_count": 19,
   "metadata": {},
   "outputs": [
    {
     "name": "stdout",
     "output_type": "stream",
     "text": [
      "<class 'dict'>\n",
      "{0: 'sunday', 1: 'monday', 2: 'tuesday', 3: 'wednesday', 4: 'thursday'}\n"
     ]
    }
   ],
   "source": [
    "### Create a Dictionary\n",
    "\n",
    "## Empty Dictionary\n",
    "dict_empty = {}\n",
    "print(type(dict_empty))\n",
    "\n",
    "## Dictionary with Items\n",
    "dict_one = {0:'sunday', 1: 'monday', 2: 'tuesday', 3: 'wednesday', 4: 'thursday'}\n",
    "print(dict_one)"
   ]
  },
  {
   "cell_type": "code",
   "execution_count": 20,
   "metadata": {},
   "outputs": [
    {
     "name": "stdout",
     "output_type": "stream",
     "text": [
      "monday\n",
      "tuesday\n"
     ]
    }
   ],
   "source": [
    "### Accessing Elements from Dictionary : Using keys (must be unique) or get() method\n",
    "\n",
    "dict_two = {0:'sunday', 1: 'monday', 2: 'tuesday', 3: 'wednesday', 4: 'thursday'}\n",
    "print(dict_two[1])\n",
    "\n",
    "## get() Method\n",
    "print(dict_two.get(2))"
   ]
  },
  {
   "cell_type": "code",
   "execution_count": 21,
   "metadata": {},
   "outputs": [
    {
     "name": "stdout",
     "output_type": "stream",
     "text": [
      "5\n"
     ]
    }
   ],
   "source": [
    "### Length of Dictionary\n",
    "\n",
    "dict_three = {0:'sunday', 1: 'monday', 2: 'tuesday', 3: 'wednesday', 4: 'thursday'}\n",
    "print(len(dict_three))"
   ]
  },
  {
   "cell_type": "code",
   "execution_count": 22,
   "metadata": {},
   "outputs": [
    {
     "name": "stdout",
     "output_type": "stream",
     "text": [
      "After changing the element {0: 'sunday', 1: 'monday', 2: 'friday', 3: 'wednesday', 4: 'thursday'}\n",
      "After adding the element : {0: 'sunday', 1: 'monday', 2: 'friday', 3: 'wednesday', 4: 'thursday', 5: 'saturday'}\n"
     ]
    }
   ],
   "source": [
    "### Changing and Adding Dictionary elements: add new items or change the value of existing items using an \"= operator\"\n",
    "\n",
    "dict_four = {0:'sunday', 1: 'monday', 2: 'tuesday', 3: 'wednesday', 4: 'thursday'}\n",
    "\n",
    "### Change Element\n",
    "dict_four[2] = 'friday'\n",
    "print(\"After changing the element\", dict_four)\n",
    "\n",
    "### Add Element\n",
    "dict_four[5] = 'saturday'\n",
    "print(\"After adding the element :\", dict_four)"
   ]
  },
  {
   "cell_type": "code",
   "execution_count": 23,
   "metadata": {},
   "outputs": [
    {
     "name": "stdout",
     "output_type": "stream",
     "text": [
      "tuesday\n",
      "(4, 'thursday')\n"
     ]
    }
   ],
   "source": [
    "### Removing elements from Dictionary : Use the pop() or popitem() method\n",
    "\n",
    "## pop() Method\n",
    "dict_five = {0:'sunday', 1: 'monday', 2: 'tuesday', 3: 'wednesday', 4: 'thursday'}\n",
    "print(dict_five.pop(2))\n",
    "\n",
    "## popitem() Method : remove an arbitrary item and return (key,value)\n",
    "print(dict_five.popitem())"
   ]
  },
  {
   "cell_type": "code",
   "execution_count": 24,
   "metadata": {},
   "outputs": [
    {
     "data": {
      "text/plain": [
       "{0: 'sunday', 1: 'monday', 3: 'wednesday'}"
      ]
     },
     "execution_count": 24,
     "metadata": {},
     "output_type": "execute_result"
    }
   ],
   "source": [
    "dict_five"
   ]
  },
  {
   "cell_type": "markdown",
   "metadata": {},
   "source": [
    "### Question 2: What is the difference between pop() and popitem()?\n",
    "\n",
    "The python dictionary functions pop() and popitem() are used to remove items from a dictionary. \n",
    "\n",
    "- The pop() function removes the key-value pair of the key passed.  \n",
    "    - **Parameters:** --> <Dictionary_Name>.pop(key, default)\n",
    "        - **key:** The key corresponding to the key-value pair you want to remove from the dictionary.\n",
    "        - **default (optional):** The value to be returned if the key is not present in the dictionary.\n",
    "    - **Returns:**\n",
    "        - If the key is in the dictionary, it removes the key and returns its value.\n",
    "        - If the key is not in the dictionary and the default is not provided, it raises a KeyError.\n",
    "        - If the key is not in the dictionary and the default is provided, it returns the default.\n",
    "<br></br>\n",
    "- The popitem() function removes the last (based on LIFO order) key-value pair from the dictionary.\n",
    "    - **Parameters:** The popitem() function does not take any parameters.\n",
    "    - **Returns:** It removes and returns the last (key, value) pair from the dictionary. If the dictionary is empty, it raises a KeyError."
   ]
  },
  {
   "cell_type": "code",
   "execution_count": 25,
   "metadata": {},
   "outputs": [
    {
     "name": "stdout",
     "output_type": "stream",
     "text": [
      "{}\n"
     ]
    }
   ],
   "source": [
    "### Remove all Items : using clear() method\n",
    "\n",
    "dict_six = {0:'sunday', 1: 'monday', 2: 'tuesday', 3: 'wednesday', 4: 'thursday'}\n",
    "\n",
    "dict_six.clear()\n",
    "print(dict_six)"
   ]
  },
  {
   "cell_type": "code",
   "execution_count": 26,
   "metadata": {},
   "outputs": [
    {
     "name": "stdout",
     "output_type": "stream",
     "text": [
      "{'Computer Science': None, 'Space Science': None, 'Math': None, 'English': None}\n"
     ]
    }
   ],
   "source": [
    "### fromkeys(seq[, t]): Returns a new dictionary with keys from seq and value equal to \"t\".\n",
    "\n",
    "dict_seven = {}.fromkeys(['Computer Science', 'Space Science', 'Math', 'English'])\n",
    "print(dict_seven)"
   ]
  },
  {
   "cell_type": "code",
   "execution_count": 27,
   "metadata": {},
   "outputs": [
    {
     "name": "stdout",
     "output_type": "stream",
     "text": [
      "dict_items([(0, 'sunday'), (1, 'monday'), (2, 'tuesday'), (3, 'wednesday'), (4, 'thursday')])\n"
     ]
    }
   ],
   "source": [
    "### items() method : Displays a list of dictionary's (key, value) tuple pairs\n",
    "\n",
    "dict_eight = {0:'sunday', 1: 'monday', 2: 'tuesday', 3: 'wednesday', 4: 'thursday'}\n",
    "print(dict_eight.items())"
   ]
  },
  {
   "cell_type": "code",
   "execution_count": 28,
   "metadata": {},
   "outputs": [
    {
     "name": "stdout",
     "output_type": "stream",
     "text": [
      "dict_keys([0, 1, 2, 3, 4])\n"
     ]
    }
   ],
   "source": [
    "### keys() method : Displays a list of all the keys in the dictionary\n",
    "\n",
    "dict_nine = {0:'sunday', 1: 'monday', 2: 'tuesday', 3: 'wednesday', 4: 'thursday'}\n",
    "print(dict_nine.keys())"
   ]
  },
  {
   "cell_type": "code",
   "execution_count": 29,
   "metadata": {},
   "outputs": [
    {
     "name": "stdout",
     "output_type": "stream",
     "text": [
      "dict_values(['sunday', 'monday', 'tuesday', 'wednesday', 'thursday'])\n"
     ]
    }
   ],
   "source": [
    "### values() method : Displays a list of all the values in the dictionary\n",
    "\n",
    "dict_ten = {0:'sunday', 1: 'monday', 2: 'tuesday', 3: 'wednesday', 4: 'thursday'}\n",
    "print(dict_ten.values())"
   ]
  },
  {
   "cell_type": "code",
   "execution_count": 30,
   "metadata": {},
   "outputs": [
    {
     "name": "stdout",
     "output_type": "stream",
     "text": [
      "wednesday\n",
      "None\n",
      "If key is not present: dict_items([(0, 'sunday'), (1, 'monday'), (2, 'tuesday'), (3, 'wednesday'), (4, 'thursday'), (6, None)])\n"
     ]
    }
   ],
   "source": [
    "### setdefault() method : returns the value of a key. If not there, it inserts key with a None value to the dictionary\n",
    "\n",
    "dict_eleven = {0:'sunday', 1: 'monday', 2: 'tuesday', 3: 'wednesday', 4: 'thursday'}\n",
    "element = dict_eleven.setdefault(3)\n",
    "print(element)\n",
    "\n",
    "## If key is not present \n",
    "element = dict_eleven.setdefault(6)\n",
    "print(element)\n",
    "print(\"If key is not present:\", dict_eleven.items())"
   ]
  },
  {
   "cell_type": "code",
   "execution_count": 31,
   "metadata": {},
   "outputs": [
    {
     "name": "stdout",
     "output_type": "stream",
     "text": [
      "12\n"
     ]
    }
   ],
   "source": [
    "### Nested Dictionaries\n",
    "dict_twelve = {\"subject\": {0:\"Maths\", 1:\"English\", 3:\"Science\"},\n",
    "          \"marks\": {0:42, 1:36, 2: 78},\n",
    "          \"Age\": {0:12, 1:34, 2:19}\n",
    "         }\n",
    "\n",
    "## print(dict_twelve[\"marks\"][0])\n",
    "print(dict_twelve[\"Age\"][0])"
   ]
  },
  {
   "cell_type": "code",
   "execution_count": 32,
   "metadata": {},
   "outputs": [
    {
     "name": "stdout",
     "output_type": "stream",
     "text": [
      "[0, 1, 2, 3, 4]\n"
     ]
    }
   ],
   "source": [
    "### sorted(): Return a new sorted list of keys in the dictionary\n",
    "\n",
    "dict_thirteen = {0:'sunday', 1: 'monday', 2: 'tuesday', 3: 'wednesday', 4: 'thursday'}\n",
    "print(sorted(dict_thirteen))"
   ]
  },
  {
   "cell_type": "code",
   "execution_count": 33,
   "metadata": {},
   "outputs": [
    {
     "name": "stdout",
     "output_type": "stream",
     "text": [
      "(0, 'sunday')\n",
      "(1, 'monday')\n",
      "(2, 'tuesday')\n",
      "(3, 'wednesday')\n",
      "(4, 'thursday')\n"
     ]
    }
   ],
   "source": [
    "### Iterate through dictionay\n",
    "\n",
    "dict_fourteen = {0:'sunday', 1: 'monday', 2: 'tuesday', 3: 'wednesday', 4: 'thursday'}\n",
    "for i in dict_fourteen.items():\n",
    "    print(i)"
   ]
  },
  {
   "cell_type": "code",
   "execution_count": 34,
   "metadata": {},
   "outputs": [
    {
     "name": "stdout",
     "output_type": "stream",
     "text": [
      "{0: 0, 1: 1, 2: 8, 3: 27, 4: 64, 5: 125, 6: 216, 7: 343, 8: 512, 9: 729}\n"
     ]
    }
   ],
   "source": [
    "### Dictionary Comprehension\n",
    "\n",
    "dict_fifteen = {x: x**3 for x in range(10)}\n",
    "print(dict_fifteen)"
   ]
  },
  {
   "cell_type": "code",
   "execution_count": 35,
   "metadata": {},
   "outputs": [
    {
     "name": "stdout",
     "output_type": "stream",
     "text": [
      "{0: 'zero', 4: 'four', 5: 'five', 2: 'two'}\n"
     ]
    }
   ],
   "source": [
    "### update() method : updates the dictionary with the elements from another dictionary object or from any other key/value pairs\n",
    "\n",
    "dict_sixteen = {0: \"zero\", 4: \"four\", 5: \"five\"}\n",
    "dict_seventeen = {2: \"two\"}\n",
    "\n",
    "## Updates the value of key 2\n",
    "dict_sixteen.update(dict_seventeen)\n",
    "print(dict_sixteen)"
   ]
  },
  {
   "cell_type": "code",
   "execution_count": 36,
   "metadata": {},
   "outputs": [
    {
     "name": "stdout",
     "output_type": "stream",
     "text": [
      "True\n"
     ]
    }
   ],
   "source": [
    "### Membership Test : check if a key is in a dictionary or not using the keyword in\n",
    "\n",
    "dict_eighteen = {0:'sunday', 1: 'monday', 2: 'tuesday', 3: 'wednesday', 4: 'thursday'}\n",
    "print(0 in dict_eighteen.keys())"
   ]
  },
  {
   "cell_type": "code",
   "execution_count": null,
   "metadata": {},
   "outputs": [],
   "source": []
  },
  {
   "cell_type": "code",
   "execution_count": null,
   "metadata": {},
   "outputs": [],
   "source": []
  }
 ],
 "metadata": {
  "interpreter": {
   "hash": "d26db0583b8d86dff58934c3f0443a821e6254989a7bf836030ed14e58471b87"
  },
  "kernelspec": {
   "display_name": "Python 3.9.7 64-bit ('base': conda)",
   "language": "python",
   "name": "python3"
  },
  "language_info": {
   "codemirror_mode": {
    "name": "ipython",
    "version": 3
   },
   "file_extension": ".py",
   "mimetype": "text/x-python",
   "name": "python",
   "nbconvert_exporter": "python",
   "pygments_lexer": "ipython3",
   "version": "3.9.7"
  },
  "orig_nbformat": 4
 },
 "nbformat": 4,
 "nbformat_minor": 2
}
